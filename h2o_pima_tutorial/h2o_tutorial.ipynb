{
 "cells": [
  {
   "cell_type": "markdown",
   "metadata": {
    "_uuid": "63a40e58feec4ec44611f356d5dc22b00fe2c1cf"
   },
   "source": [
    "**Objective:**\n",
    "\n",
    "This is an introductory notebook for people wanting to get started with [H2O](https://www.h2o.ai/products/h2o/) (the open source machine learning package by H2O.ai) \n",
    "\n",
    "**What is H2O?:**\n",
    "\n",
    "H2O is a Java-based software for data modeling and general computing. There are many different perceptions of the H2O software, but the primary purpose of H2O is as a distributed (many machines), parallel (many CPUs), in memory (several hundred GBs Xmx) processing engine. \n",
    "\n",
    "Wait, we as Data Scientists do not need to know Java for using H2O to build models. We can use our favorite language (Python or R) :) \n",
    "\n",
    "** H2O - Key Features:**\n",
    "\n",
    "Some of the key features \n",
    "1. Access from both R and Python\n",
    "2. Access from  web-based interface named Flow. By means of Flow, data scientists are able to import, explore, and modify datasets, play with models, verify models performances, and much more. (This is not accessible here in Kaggle Kernels)\n",
    "3. AutoML : automatic training and tuning of many models within a user-specified time-limit. \n",
    "4. Distributed, In-memory processing : In-memory processing with fast serialization between nodes and clusters to support massive datasets. \n",
    "5. Simple Deployment : Easy to deploy POJOs and MOJOs to deploy models for fast and accurate scoring in any environment, including with very large models.\n",
    "\n",
    "Let us first import the necessary modules."
   ]
  },
  {
   "cell_type": "code",
   "execution_count": 1,
   "metadata": {},
   "outputs": [],
   "source": [
    "#! pip install h2o"
   ]
  },
  {
   "cell_type": "code",
   "execution_count": 2,
   "metadata": {
    "_cell_guid": "b1076dfc-b9ad-4769-8c92-a6c4dae69d19",
    "_uuid": "8f2839f25d086af736a60e9eeb907d3b93b6e0e5"
   },
   "outputs": [],
   "source": [
    "import h2o\n",
    "import time\n",
    "import seaborn\n",
    "import itertools\n",
    "import numpy as np\n",
    "import pandas as pd\n",
    "import seaborn as sns\n",
    "import matplotlib.pyplot as plt\n",
    "from h2o.estimators.glm import H2OGeneralizedLinearEstimator\n",
    "from h2o.estimators.gbm import H2OGradientBoostingEstimator\n",
    "from h2o.estimators.random_forest import H2ORandomForestEstimator\n",
    "\n",
    "%matplotlib inline"
   ]
  },
  {
   "cell_type": "markdown",
   "metadata": {
    "_uuid": "fedacbbc386f3a5fdd5b2b9970d77eabdc0af777"
   },
   "source": [
    "Once the module in imported, the first step is to initialize the h2o module. \n",
    "\n",
    "The *h2o.init()* command is pretty smart and does a lot of things. First, an attempt is made to search for an existing H2O instance being started already, before starting a new one. When none is found automatically or specified manually with argument available, a new instance of H2O is started. \n",
    "\n",
    "During startup, H2O is going to print some useful information. Version of the Python it is running on, H2O’s version, how to connect to H2O’s Flow interface or where error logs reside, just to name a few."
   ]
  },
  {
   "cell_type": "code",
   "execution_count": 3,
   "metadata": {
    "_cell_guid": "79c7e3d0-c299-4dcb-8224-4455121ee9b0",
    "_uuid": "d629ff2d2480ee46fbb7e2d37f6b5fab8052498a",
    "scrolled": true
   },
   "outputs": [
    {
     "name": "stdout",
     "output_type": "stream",
     "text": [
      "Checking whether there is an H2O instance running at http://localhost:54321..... not found.\n",
      "Attempting to start a local H2O server...\n",
      "; Java HotSpot(TM) Client VM (build 25.191-b12, mixed mode)\n"
     ]
    },
    {
     "name": "stderr",
     "output_type": "stream",
     "text": [
      "C:\\Users\\gospu\\Anaconda3\\lib\\site-packages\\h2o\\backend\\server.py:369: UserWarning:   You have a 32-bit version of Java. H2O works best with 64-bit Java.\n",
      "  Please download the latest 64-bit Java SE JDK from Oracle.\n",
      "\n",
      "  warn(\"  You have a 32-bit version of Java. H2O works best with 64-bit Java.\\n\"\n"
     ]
    },
    {
     "name": "stdout",
     "output_type": "stream",
     "text": [
      "  Starting server from C:\\Users\\gospu\\Anaconda3\\lib\\site-packages\\h2o\\backend\\bin\\h2o.jar\n",
      "  Ice root: C:\\Users\\gospu\\AppData\\Local\\Temp\\tmpyqs19_x7\n",
      "  JVM stdout: C:\\Users\\gospu\\AppData\\Local\\Temp\\tmpyqs19_x7\\h2o_gospurs927_started_from_python.out\n",
      "  JVM stderr: C:\\Users\\gospu\\AppData\\Local\\Temp\\tmpyqs19_x7\\h2o_gospurs927_started_from_python.err\n",
      "  Server is running at http://127.0.0.1:54321\n",
      "Connecting to H2O server at http://127.0.0.1:54321... successful.\n"
     ]
    },
    {
     "data": {
      "text/html": [
       "<div style=\"overflow:auto\"><table style=\"width:50%\"><tr><td>H2O cluster uptime:</td>\n",
       "<td>03 secs</td></tr>\n",
       "<tr><td>H2O cluster timezone:</td>\n",
       "<td>America/Chicago</td></tr>\n",
       "<tr><td>H2O data parsing timezone:</td>\n",
       "<td>UTC</td></tr>\n",
       "<tr><td>H2O cluster version:</td>\n",
       "<td>3.22.1.3</td></tr>\n",
       "<tr><td>H2O cluster version age:</td>\n",
       "<td>3 days </td></tr>\n",
       "<tr><td>H2O cluster name:</td>\n",
       "<td>H2O_from_python_gospurs927_h6fceq</td></tr>\n",
       "<tr><td>H2O cluster total nodes:</td>\n",
       "<td>1</td></tr>\n",
       "<tr><td>H2O cluster free memory:</td>\n",
       "<td>247.5 Mb</td></tr>\n",
       "<tr><td>H2O cluster total cores:</td>\n",
       "<td>0</td></tr>\n",
       "<tr><td>H2O cluster allowed cores:</td>\n",
       "<td>0</td></tr>\n",
       "<tr><td>H2O cluster status:</td>\n",
       "<td>accepting new members, healthy</td></tr>\n",
       "<tr><td>H2O connection url:</td>\n",
       "<td>http://127.0.0.1:54321</td></tr>\n",
       "<tr><td>H2O connection proxy:</td>\n",
       "<td>None</td></tr>\n",
       "<tr><td>H2O internal security:</td>\n",
       "<td>False</td></tr>\n",
       "<tr><td>H2O API Extensions:</td>\n",
       "<td>Algos, AutoML, Core V3, Core V4</td></tr>\n",
       "<tr><td>Python version:</td>\n",
       "<td>3.6.4 final</td></tr></table></div>"
      ],
      "text/plain": [
       "--------------------------  ---------------------------------\n",
       "H2O cluster uptime:         03 secs\n",
       "H2O cluster timezone:       America/Chicago\n",
       "H2O data parsing timezone:  UTC\n",
       "H2O cluster version:        3.22.1.3\n",
       "H2O cluster version age:    3 days\n",
       "H2O cluster name:           H2O_from_python_gospurs927_h6fceq\n",
       "H2O cluster total nodes:    1\n",
       "H2O cluster free memory:    247.5 Mb\n",
       "H2O cluster total cores:    0\n",
       "H2O cluster allowed cores:  0\n",
       "H2O cluster status:         accepting new members, healthy\n",
       "H2O connection url:         http://127.0.0.1:54321\n",
       "H2O connection proxy:\n",
       "H2O internal security:      False\n",
       "H2O API Extensions:         Algos, AutoML, Core V3, Core V4\n",
       "Python version:             3.6.4 final\n",
       "--------------------------  ---------------------------------"
      ]
     },
     "metadata": {},
     "output_type": "display_data"
    }
   ],
   "source": [
    "h2o.init()"
   ]
  },
  {
   "cell_type": "markdown",
   "metadata": {
    "_uuid": "fe40093df215e97ec7e39edc52ef0b1437a21e3b"
   },
   "source": [
    "**Data Exploration:**\n",
    "\n",
    "Now that the initialization is done, let us first import the dataset. The command is very similar to *pandas.read_csv* and the data is stored in memory as [H2OFrame](http://docs.h2o.ai/h2o/latest-stable/h2o-py/docs/frame.html)\n",
    "\n",
    "H2O supports various file formats and data sources. More detailed information can be seen [here](http://docs.h2o.ai/h2o/latest-stable/h2o-docs/getting-data-into-h2o.html)."
   ]
  },
  {
   "cell_type": "code",
   "execution_count": 4,
   "metadata": {
    "_uuid": "c46a4904ace52737d39237a685f0d10ab5665248"
   },
   "outputs": [
    {
     "name": "stdout",
     "output_type": "stream",
     "text": [
      "Parse progress: |█████████████████████████████████████████████████████████| 100%\n"
     ]
    }
   ],
   "source": [
    "diabetes_df = h2o.import_file(\"diabetes.csv\", destination_frame=\"diabetes_df\")"
   ]
  },
  {
   "cell_type": "markdown",
   "metadata": {
    "_uuid": "58d69ea7dbeb4ad666055f2f867ff603866ca4c9"
   },
   "source": [
    "We can also see the progress when the loading happens. This will be very helpful while dealing with larger datasets.\n",
    "\n",
    "As a first step, let us have a look at the dataset. "
   ]
  },
  {
   "cell_type": "code",
   "execution_count": 5,
   "metadata": {
    "_uuid": "fc2c506ed23c727f2d05c234d8d5ec1e4355674a"
   },
   "outputs": [
    {
     "name": "stdout",
     "output_type": "stream",
     "text": [
      "Rows:768\n",
      "Cols:9\n",
      "\n",
      "\n"
     ]
    },
    {
     "data": {
      "text/html": [
       "<table>\n",
       "<thead>\n",
       "<tr><th>       </th><th>Pregnancies      </th><th>Glucose           </th><th>BloodPressure     </th><th>SkinThickness     </th><th>Insulin           </th><th>BMI              </th><th>DiabetesPedigreeFunction  </th><th>Age               </th><th>Outcome            </th></tr>\n",
       "</thead>\n",
       "<tbody>\n",
       "<tr><td>type   </td><td>int              </td><td>int               </td><td>int               </td><td>int               </td><td>int               </td><td>real             </td><td>real                      </td><td>int               </td><td>int                </td></tr>\n",
       "<tr><td>mins   </td><td>0.0              </td><td>0.0               </td><td>0.0               </td><td>0.0               </td><td>0.0               </td><td>0.0              </td><td>0.078                     </td><td>21.0              </td><td>0.0                </td></tr>\n",
       "<tr><td>mean   </td><td>3.845052083333336</td><td>120.89453125      </td><td>69.10546874999994 </td><td>20.536458333333357</td><td>79.79947916666666 </td><td>31.99257812500003</td><td>0.4718763020833334        </td><td>33.240885416666615</td><td>0.3489583333333333 </td></tr>\n",
       "<tr><td>maxs   </td><td>17.0             </td><td>199.0             </td><td>122.0             </td><td>99.0              </td><td>846.0             </td><td>67.1             </td><td>2.42                      </td><td>81.0              </td><td>1.0                </td></tr>\n",
       "<tr><td>sigma  </td><td>3.36957806269887 </td><td>31.972618195136224</td><td>19.355807170644777</td><td>15.952217567727642</td><td>115.24400235133803</td><td>7.884160320375441</td><td>0.331328595012775         </td><td>11.760231540678689</td><td>0.47695137724279896</td></tr>\n",
       "<tr><td>zeros  </td><td>111              </td><td>5                 </td><td>35                </td><td>227               </td><td>374               </td><td>11               </td><td>0                         </td><td>0                 </td><td>500                </td></tr>\n",
       "<tr><td>missing</td><td>0                </td><td>0                 </td><td>0                 </td><td>0                 </td><td>0                 </td><td>0                </td><td>0                         </td><td>0                 </td><td>0                  </td></tr>\n",
       "<tr><td>0      </td><td>6.0              </td><td>148.0             </td><td>72.0              </td><td>35.0              </td><td>0.0               </td><td>33.6             </td><td>0.627                     </td><td>50.0              </td><td>1.0                </td></tr>\n",
       "<tr><td>1      </td><td>1.0              </td><td>85.0              </td><td>66.0              </td><td>29.0              </td><td>0.0               </td><td>26.6             </td><td>0.351                     </td><td>31.0              </td><td>0.0                </td></tr>\n",
       "<tr><td>2      </td><td>8.0              </td><td>183.0             </td><td>64.0              </td><td>0.0               </td><td>0.0               </td><td>23.3             </td><td>0.672                     </td><td>32.0              </td><td>1.0                </td></tr>\n",
       "<tr><td>3      </td><td>1.0              </td><td>89.0              </td><td>66.0              </td><td>23.0              </td><td>94.0              </td><td>28.1             </td><td>0.167                     </td><td>21.0              </td><td>0.0                </td></tr>\n",
       "<tr><td>4      </td><td>0.0              </td><td>137.0             </td><td>40.0              </td><td>35.0              </td><td>168.0             </td><td>43.1             </td><td>2.288                     </td><td>33.0              </td><td>1.0                </td></tr>\n",
       "<tr><td>5      </td><td>5.0              </td><td>116.0             </td><td>74.0              </td><td>0.0               </td><td>0.0               </td><td>25.6             </td><td>0.201                     </td><td>30.0              </td><td>0.0                </td></tr>\n",
       "<tr><td>6      </td><td>3.0              </td><td>78.0              </td><td>50.0              </td><td>32.0              </td><td>88.0              </td><td>31.0             </td><td>0.248                     </td><td>26.0              </td><td>1.0                </td></tr>\n",
       "<tr><td>7      </td><td>10.0             </td><td>115.0             </td><td>0.0               </td><td>0.0               </td><td>0.0               </td><td>35.3             </td><td>0.134                     </td><td>29.0              </td><td>0.0                </td></tr>\n",
       "<tr><td>8      </td><td>2.0              </td><td>197.0             </td><td>70.0              </td><td>45.0              </td><td>543.0             </td><td>30.5             </td><td>0.158                     </td><td>53.0              </td><td>1.0                </td></tr>\n",
       "<tr><td>9      </td><td>8.0              </td><td>125.0             </td><td>96.0              </td><td>0.0               </td><td>0.0               </td><td>0.0              </td><td>0.232                     </td><td>54.0              </td><td>1.0                </td></tr>\n",
       "</tbody>\n",
       "</table>"
      ]
     },
     "metadata": {},
     "output_type": "display_data"
    }
   ],
   "source": [
    "diabetes_df.describe()"
   ]
  },
  {
   "cell_type": "markdown",
   "metadata": {
    "_uuid": "41a16d8d33ee302447c7f9442a5070fe663dd63e"
   },
   "source": [
    "*describe()* gives out a lot of information. \n",
    "1. Number of rows and columns in the dataset\n",
    "2. A number of summary statistics about the dataset such as \n",
    "    * Data type of the column such as integer, categorical etc\n",
    "    * Minimum value\n",
    "    * Mean value\n",
    "    * Maximum value\n",
    "    * Standard deviation value\n",
    "    * Number of zeros in the column\n",
    "    * Number of missing values in the column\n",
    "3. A look at the top few rows\n",
    "\n",
    "Now let us look at the distribution of the individual features using *hist()* command "
   ]
  },
  {
   "cell_type": "code",
   "execution_count": 6,
   "metadata": {},
   "outputs": [
    {
     "data": {
      "text/plain": [
       "'2.2.2'"
      ]
     },
     "execution_count": 6,
     "metadata": {},
     "output_type": "execute_result"
    }
   ],
   "source": [
    "import matplotlib as mpl\n",
    "mpl.__version__"
   ]
  },
  {
   "cell_type": "code",
   "execution_count": 7,
   "metadata": {
    "_uuid": "5a717975571bd32f2d6db1f96ab1834eb77ef7a7",
    "scrolled": false
   },
   "outputs": [
    {
     "name": "stderr",
     "output_type": "stream",
     "text": [
      "C:\\Users\\gospu\\Anaconda3\\lib\\site-packages\\matplotlib\\__init__.py:1855: MatplotlibDeprecationWarning: The *left* kwarg to `bar` is deprecated use *x* instead. Support for *left* will be removed in Matplotlib 3.0\n",
      "  return func(ax, *args, **kwargs)\n"
     ]
    },
    {
     "data": {
      "image/png": "[encoded data removed]",
      "text/plain": [
       "<Figure size 432x288 with 1 Axes>"
      ]
     },
     "metadata": {
      "needs_background": "light"
     },
     "output_type": "display_data"
    },
    {
     "data": {
      "image/png": "[encoded data removed]",
      "text/plain": [
       "<Figure size 432x288 with 1 Axes>"
      ]
     },
     "metadata": {
      "needs_background": "light"
     },
     "output_type": "display_data"
    },
    {
     "data": {
      "image/png": "[encoded data removed]",
      "text/plain": [
       "<Figure size 432x288 with 1 Axes>"
      ]
     },
     "metadata": {
      "needs_background": "light"
     },
     "output_type": "display_data"
    },
    {
     "data": {
      "image/png": "[encoded data removed]",
      "text/plain": [
       "<Figure size 432x288 with 1 Axes>"
      ]
     },
     "metadata": {
      "needs_background": "light"
     },
     "output_type": "display_data"
    },
    {
     "data": {
      "image/png": "[encoded data removed]",
      "text/plain": [
       "<Figure size 432x288 with 1 Axes>"
      ]
     },
     "metadata": {
      "needs_background": "light"
     },
     "output_type": "display_data"
    },
    {
     "data": {
      "image/png": "[encoded data removed]",
      "text/plain": [
       "<Figure size 432x288 with 1 Axes>"
      ]
     },
     "metadata": {
      "needs_background": "light"
     },
     "output_type": "display_data"
    },
    {
     "data": {
      "image/png": "[encoded data removed]",
      "text/plain": [
       "<Figure size 432x288 with 1 Axes>"
      ]
     },
     "metadata": {
      "needs_background": "light"
     },
     "output_type": "display_data"
    },
    {
     "data": {
      "image/png": "[encoded data removed]",
      "text/plain": [
       "<Figure size 432x288 with 1 Axes>"
      ]
     },
     "metadata": {
      "needs_background": "light"
     },
     "output_type": "display_data"
    },
    {
     "data": {
      "image/png": "[encoded data removed]",
      "text/plain": [
       "<Figure size 432x288 with 1 Axes>"
      ]
     },
     "metadata": {
      "needs_background": "light"
     },
     "output_type": "display_data"
    }
   ],
   "source": [
    "for col in diabetes_df.columns:\n",
    "    diabetes_df[col].hist()"
   ]
  },
  {
   "cell_type": "markdown",
   "metadata": {
    "_uuid": "df2ca9c48ebbae63b636c5910ddce6bab946ec8a"
   },
   "source": [
    "Now let us also look at the correlation of the individual features. We can use the *cor()* function in H2OFrame for the same."
   ]
  },
  {
   "cell_type": "code",
   "execution_count": 8,
   "metadata": {
    "_uuid": "49b983c53e5fb7df93be42c2ea06a1660830fae3"
   },
   "outputs": [
    {
     "data": {
      "image/png": "[encoded data removed]",
      "text/plain": [
       "<Figure size 720x720 with 2 Axes>"
      ]
     },
     "metadata": {
      "needs_background": "light"
     },
     "output_type": "display_data"
    }
   ],
   "source": [
    "plt.figure(figsize=(10,10))\n",
    "corr = diabetes_df.cor().as_data_frame()\n",
    "corr.index = diabetes_df.columns\n",
    "sns.heatmap(corr, annot = True, cmap='RdYlGn', vmin=-1, vmax=1)\n",
    "plt.title(\"Correlation Heatmap\", fontsize=16)\n",
    "plt.show()"
   ]
  },
  {
   "cell_type": "markdown",
   "metadata": {
    "_uuid": "21e4283a61f879be00e6e4dafeebe8b841302a36"
   },
   "source": [
    "Let us now split the data into three parts - train, valid and test datasets - at a ratio of 60%, 20% and 20% respectively. We could use *split_frame()* function for the same."
   ]
  },
  {
   "cell_type": "code",
   "execution_count": 9,
   "metadata": {
    "_uuid": "32b93240ba733b29f4e6469b5e12910eac2582c8"
   },
   "outputs": [
    {
     "name": "stdout",
     "output_type": "stream",
     "text": [
      "Number of rows in train, valid and test set :  465 148 155\n"
     ]
    }
   ],
   "source": [
    "train, valid, test = diabetes_df.split_frame(ratios=[0.6,0.2], seed=1234)\n",
    "response = \"Outcome\"\n",
    "train[response] = train[response].asfactor()\n",
    "valid[response] = valid[response].asfactor()\n",
    "test[response] = test[response].asfactor()\n",
    "print(\"Number of rows in train, valid and test set : \", train.shape[0], valid.shape[0], test.shape[0])"
   ]
  },
  {
   "cell_type": "markdown",
   "metadata": {
    "_uuid": "6a4504f5a72a4028e8d044dba061c547e759ae02"
   },
   "source": [
    "**Modeling and Model Tuning : **\n",
    "\n",
    "Now, let us build a baseline model using these splits. There are [multiple algorithms](http://docs.h2o.ai/h2o/latest-stable/h2o-docs/data-science.html) available in the H2O module. We can start with the Kaggler's favorite - GBM.\n",
    "\n",
    "Please note that the target variable is \"Outcome\" and rest of the features are as input features. Since this is a baseline model, let us use the default parameters."
   ]
  },
  {
   "cell_type": "code",
   "execution_count": 10,
   "metadata": {
    "_uuid": "7d235577e43920222b380aa79b4604da85357fef"
   },
   "outputs": [
    {
     "name": "stdout",
     "output_type": "stream",
     "text": [
      "gbm Model Build progress: |███████████████████████████████████████████████| 100%\n"
     ]
    }
   ],
   "source": [
    "predictors = diabetes_df.columns[:-1]\n",
    "gbm = H2OGradientBoostingEstimator()\n",
    "gbm.train(x=predictors, y=response, training_frame=train)"
   ]
  },
  {
   "cell_type": "markdown",
   "metadata": {
    "_uuid": "1feb3b8abd35d850ea973df893b03ad5dace2078"
   },
   "source": [
    "Again, it is good to see the model building progress.\n",
    "\n",
    "Now let us do a *print(model_name)* to understand more about the model."
   ]
  },
  {
   "cell_type": "code",
   "execution_count": 11,
   "metadata": {
    "_uuid": "72471d6633f6c4fb5bca62990143f3a7bb2d49ed",
    "scrolled": false
   },
   "outputs": [
    {
     "name": "stdout",
     "output_type": "stream",
     "text": [
      "Model Details\n",
      "=============\n",
      "H2OGradientBoostingEstimator :  Gradient Boosting Machine\n",
      "Model Key:  GBM_model_python_1548762371303_1\n",
      "\n",
      "\n",
      "ModelMetricsBinomial: gbm\n",
      "** Reported on train data. **\n",
      "\n",
      "MSE: 0.05394537414652564\n",
      "RMSE: 0.2322614349101582\n",
      "LogLoss: 0.21164045617145613\n",
      "Mean Per-Class Error: 0.05419671999032927\n",
      "AUC: 0.9899262602248459\n",
      "pr_auc: 0.9784923662885114\n",
      "Gini: 0.9798525204496917\n",
      "Confusion Matrix (Act/Pred) for max f1 @ threshold = 0.46220528851885034: \n"
     ]
    },
    {
     "data": {
      "text/html": [
       "<div style=\"overflow:auto\"><table style=\"width:50%\"><tr><td><b></b></td>\n",
       "<td><b>0</b></td>\n",
       "<td><b>1</b></td>\n",
       "<td><b>Error</b></td>\n",
       "<td><b>Rate</b></td></tr>\n",
       "<tr><td>0</td>\n",
       "<td>290.0</td>\n",
       "<td>9.0</td>\n",
       "<td>0.0301</td>\n",
       "<td> (9.0/299.0)</td></tr>\n",
       "<tr><td>1</td>\n",
       "<td>14.0</td>\n",
       "<td>152.0</td>\n",
       "<td>0.0843</td>\n",
       "<td> (14.0/166.0)</td></tr>\n",
       "<tr><td>Total</td>\n",
       "<td>304.0</td>\n",
       "<td>161.0</td>\n",
       "<td>0.0495</td>\n",
       "<td> (23.0/465.0)</td></tr></table></div>"
      ],
      "text/plain": [
       "       0    1    Error    Rate\n",
       "-----  ---  ---  -------  ------------\n",
       "0      290  9    0.0301   (9.0/299.0)\n",
       "1      14   152  0.0843   (14.0/166.0)\n",
       "Total  304  161  0.0495   (23.0/465.0)"
      ]
     },
     "metadata": {},
     "output_type": "display_data"
    },
    {
     "name": "stdout",
     "output_type": "stream",
     "text": [
      "Maximum Metrics: Maximum metrics at their respective thresholds\n",
      "\n"
     ]
    },
    {
     "data": {
      "text/html": [
       "<div style=\"overflow:auto\"><table style=\"width:50%\"><tr><td><b>metric</b></td>\n",
       "<td><b>threshold</b></td>\n",
       "<td><b>value</b></td>\n",
       "<td><b>idx</b></td></tr>\n",
       "<tr><td>max f1</td>\n",
       "<td>0.4622053</td>\n",
       "<td>0.9296636</td>\n",
       "<td>150.0</td></tr>\n",
       "<tr><td>max f2</td>\n",
       "<td>0.3238256</td>\n",
       "<td>0.9448357</td>\n",
       "<td>176.0</td></tr>\n",
       "<tr><td>max f0point5</td>\n",
       "<td>0.5480218</td>\n",
       "<td>0.9673025</td>\n",
       "<td>132.0</td></tr>\n",
       "<tr><td>max accuracy</td>\n",
       "<td>0.5069764</td>\n",
       "<td>0.9505376</td>\n",
       "<td>142.0</td></tr>\n",
       "<tr><td>max precision</td>\n",
       "<td>0.9838497</td>\n",
       "<td>1.0</td>\n",
       "<td>0.0</td></tr>\n",
       "<tr><td>max recall</td>\n",
       "<td>0.1733829</td>\n",
       "<td>1.0</td>\n",
       "<td>227.0</td></tr>\n",
       "<tr><td>max specificity</td>\n",
       "<td>0.9838497</td>\n",
       "<td>1.0</td>\n",
       "<td>0.0</td></tr>\n",
       "<tr><td>max absolute_mcc</td>\n",
       "<td>0.5069764</td>\n",
       "<td>0.8920664</td>\n",
       "<td>142.0</td></tr>\n",
       "<tr><td>max min_per_class_accuracy</td>\n",
       "<td>0.3721344</td>\n",
       "<td>0.9397993</td>\n",
       "<td>163.0</td></tr>\n",
       "<tr><td>max mean_per_class_accuracy</td>\n",
       "<td>0.3704585</td>\n",
       "<td>0.9458033</td>\n",
       "<td>164.0</td></tr></table></div>"
      ],
      "text/plain": [
       "metric                       threshold    value     idx\n",
       "---------------------------  -----------  --------  -----\n",
       "max f1                       0.462205     0.929664  150\n",
       "max f2                       0.323826     0.944836  176\n",
       "max f0point5                 0.548022     0.967302  132\n",
       "max accuracy                 0.506976     0.950538  142\n",
       "max precision                0.98385      1         0\n",
       "max recall                   0.173383     1         227\n",
       "max specificity              0.98385      1         0\n",
       "max absolute_mcc             0.506976     0.892066  142\n",
       "max min_per_class_accuracy   0.372134     0.939799  163\n",
       "max mean_per_class_accuracy  0.370458     0.945803  164"
      ]
     },
     "metadata": {},
     "output_type": "display_data"
    },
    {
     "name": "stdout",
     "output_type": "stream",
     "text": [
      "Gains/Lift Table: Avg response rate: 35.70 %, avg score: 35.71 %\n",
      "\n"
     ]
    },
    {
     "data": {
      "text/html": [
       "<div style=\"overflow:auto\"><table style=\"width:50%\"><tr><td><b></b></td>\n",
       "<td><b>group</b></td>\n",
       "<td><b>cumulative_data_fraction</b></td>\n",
       "<td><b>lower_threshold</b></td>\n",
       "<td><b>lift</b></td>\n",
       "<td><b>cumulative_lift</b></td>\n",
       "<td><b>response_rate</b></td>\n",
       "<td><b>score</b></td>\n",
       "<td><b>cumulative_response_rate</b></td>\n",
       "<td><b>cumulative_score</b></td>\n",
       "<td><b>capture_rate</b></td>\n",
       "<td><b>cumulative_capture_rate</b></td>\n",
       "<td><b>gain</b></td>\n",
       "<td><b>cumulative_gain</b></td></tr>\n",
       "<tr><td></td>\n",
       "<td>1</td>\n",
       "<td>0.0107527</td>\n",
       "<td>0.9647603</td>\n",
       "<td>2.8012048</td>\n",
       "<td>2.8012048</td>\n",
       "<td>1.0</td>\n",
       "<td>0.9701344</td>\n",
       "<td>1.0</td>\n",
       "<td>0.9701344</td>\n",
       "<td>0.0301205</td>\n",
       "<td>0.0301205</td>\n",
       "<td>180.1204819</td>\n",
       "<td>180.1204819</td></tr>\n",
       "<tr><td></td>\n",
       "<td>2</td>\n",
       "<td>0.0215054</td>\n",
       "<td>0.9598415</td>\n",
       "<td>2.8012048</td>\n",
       "<td>2.8012048</td>\n",
       "<td>1.0</td>\n",
       "<td>0.9634412</td>\n",
       "<td>1.0</td>\n",
       "<td>0.9667878</td>\n",
       "<td>0.0301205</td>\n",
       "<td>0.0602410</td>\n",
       "<td>180.1204819</td>\n",
       "<td>180.1204819</td></tr>\n",
       "<tr><td></td>\n",
       "<td>3</td>\n",
       "<td>0.0301075</td>\n",
       "<td>0.9481976</td>\n",
       "<td>2.8012048</td>\n",
       "<td>2.8012048</td>\n",
       "<td>1.0</td>\n",
       "<td>0.9528239</td>\n",
       "<td>1.0</td>\n",
       "<td>0.9627981</td>\n",
       "<td>0.0240964</td>\n",
       "<td>0.0843373</td>\n",
       "<td>180.1204819</td>\n",
       "<td>180.1204819</td></tr>\n",
       "<tr><td></td>\n",
       "<td>4</td>\n",
       "<td>0.0408602</td>\n",
       "<td>0.9440162</td>\n",
       "<td>2.8012048</td>\n",
       "<td>2.8012048</td>\n",
       "<td>1.0</td>\n",
       "<td>0.9462455</td>\n",
       "<td>1.0</td>\n",
       "<td>0.9584422</td>\n",
       "<td>0.0301205</td>\n",
       "<td>0.1144578</td>\n",
       "<td>180.1204819</td>\n",
       "<td>180.1204819</td></tr>\n",
       "<tr><td></td>\n",
       "<td>5</td>\n",
       "<td>0.0516129</td>\n",
       "<td>0.9402434</td>\n",
       "<td>2.8012048</td>\n",
       "<td>2.8012048</td>\n",
       "<td>1.0</td>\n",
       "<td>0.9422679</td>\n",
       "<td>1.0</td>\n",
       "<td>0.9550725</td>\n",
       "<td>0.0301205</td>\n",
       "<td>0.1445783</td>\n",
       "<td>180.1204819</td>\n",
       "<td>180.1204819</td></tr>\n",
       "<tr><td></td>\n",
       "<td>6</td>\n",
       "<td>0.1010753</td>\n",
       "<td>0.9109362</td>\n",
       "<td>2.8012048</td>\n",
       "<td>2.8012048</td>\n",
       "<td>1.0</td>\n",
       "<td>0.9246690</td>\n",
       "<td>1.0</td>\n",
       "<td>0.9401942</td>\n",
       "<td>0.1385542</td>\n",
       "<td>0.2831325</td>\n",
       "<td>180.1204819</td>\n",
       "<td>180.1204819</td></tr>\n",
       "<tr><td></td>\n",
       "<td>7</td>\n",
       "<td>0.1505376</td>\n",
       "<td>0.8685528</td>\n",
       "<td>2.8012048</td>\n",
       "<td>2.8012048</td>\n",
       "<td>1.0</td>\n",
       "<td>0.8898148</td>\n",
       "<td>1.0</td>\n",
       "<td>0.9236410</td>\n",
       "<td>0.1385542</td>\n",
       "<td>0.4216867</td>\n",
       "<td>180.1204819</td>\n",
       "<td>180.1204819</td></tr>\n",
       "<tr><td></td>\n",
       "<td>8</td>\n",
       "<td>0.2</td>\n",
       "<td>0.7970538</td>\n",
       "<td>2.8012048</td>\n",
       "<td>2.8012048</td>\n",
       "<td>1.0</td>\n",
       "<td>0.8346415</td>\n",
       "<td>1.0</td>\n",
       "<td>0.9016303</td>\n",
       "<td>0.1385542</td>\n",
       "<td>0.5602410</td>\n",
       "<td>180.1204819</td>\n",
       "<td>180.1204819</td></tr>\n",
       "<tr><td></td>\n",
       "<td>9</td>\n",
       "<td>0.3010753</td>\n",
       "<td>0.5563266</td>\n",
       "<td>2.8012048</td>\n",
       "<td>2.8012048</td>\n",
       "<td>1.0</td>\n",
       "<td>0.6801791</td>\n",
       "<td>1.0</td>\n",
       "<td>0.8272860</td>\n",
       "<td>0.2831325</td>\n",
       "<td>0.8433735</td>\n",
       "<td>180.1204819</td>\n",
       "<td>180.1204819</td></tr>\n",
       "<tr><td></td>\n",
       "<td>10</td>\n",
       "<td>0.4</td>\n",
       "<td>0.3260873</td>\n",
       "<td>1.1570194</td>\n",
       "<td>2.3945783</td>\n",
       "<td>0.4130435</td>\n",
       "<td>0.4418483</td>\n",
       "<td>0.8548387</td>\n",
       "<td>0.7319627</td>\n",
       "<td>0.1144578</td>\n",
       "<td>0.9578313</td>\n",
       "<td>15.7019382</td>\n",
       "<td>139.4578313</td></tr>\n",
       "<tr><td></td>\n",
       "<td>11</td>\n",
       "<td>0.5010753</td>\n",
       "<td>0.1895177</td>\n",
       "<td>0.3576006</td>\n",
       "<td>1.9836858</td>\n",
       "<td>0.1276596</td>\n",
       "<td>0.2570744</td>\n",
       "<td>0.7081545</td>\n",
       "<td>0.6361698</td>\n",
       "<td>0.0361446</td>\n",
       "<td>0.9939759</td>\n",
       "<td>-64.2399385</td>\n",
       "<td>98.3685816</td></tr>\n",
       "<tr><td></td>\n",
       "<td>12</td>\n",
       "<td>0.6</td>\n",
       "<td>0.1197063</td>\n",
       "<td>0.0608958</td>\n",
       "<td>1.6666667</td>\n",
       "<td>0.0217391</td>\n",
       "<td>0.1481433</td>\n",
       "<td>0.5949821</td>\n",
       "<td>0.5557067</td>\n",
       "<td>0.0060241</td>\n",
       "<td>1.0</td>\n",
       "<td>-93.9104243</td>\n",
       "<td>66.6666667</td></tr>\n",
       "<tr><td></td>\n",
       "<td>13</td>\n",
       "<td>0.6989247</td>\n",
       "<td>0.0837243</td>\n",
       "<td>0.0</td>\n",
       "<td>1.4307692</td>\n",
       "<td>0.0</td>\n",
       "<td>0.1011523</td>\n",
       "<td>0.5107692</td>\n",
       "<td>0.4913697</td>\n",
       "<td>0.0</td>\n",
       "<td>1.0</td>\n",
       "<td>-100.0</td>\n",
       "<td>43.0769231</td></tr>\n",
       "<tr><td></td>\n",
       "<td>14</td>\n",
       "<td>0.8</td>\n",
       "<td>0.0531339</td>\n",
       "<td>0.0</td>\n",
       "<td>1.25</td>\n",
       "<td>0.0</td>\n",
       "<td>0.0675576</td>\n",
       "<td>0.4462366</td>\n",
       "<td>0.4378236</td>\n",
       "<td>0.0</td>\n",
       "<td>1.0</td>\n",
       "<td>-100.0</td>\n",
       "<td>25.0</td></tr>\n",
       "<tr><td></td>\n",
       "<td>15</td>\n",
       "<td>0.8989247</td>\n",
       "<td>0.0342035</td>\n",
       "<td>0.0</td>\n",
       "<td>1.1124402</td>\n",
       "<td>0.0</td>\n",
       "<td>0.0424480</td>\n",
       "<td>0.3971292</td>\n",
       "<td>0.3943133</td>\n",
       "<td>0.0</td>\n",
       "<td>1.0</td>\n",
       "<td>-100.0</td>\n",
       "<td>11.2440191</td></tr>\n",
       "<tr><td></td>\n",
       "<td>16</td>\n",
       "<td>1.0</td>\n",
       "<td>0.0187128</td>\n",
       "<td>0.0</td>\n",
       "<td>1.0</td>\n",
       "<td>0.0</td>\n",
       "<td>0.0264826</td>\n",
       "<td>0.3569892</td>\n",
       "<td>0.3571348</td>\n",
       "<td>0.0</td>\n",
       "<td>1.0</td>\n",
       "<td>-100.0</td>\n",
       "<td>0.0</td></tr></table></div>"
      ],
      "text/plain": [
       "    group    cumulative_data_fraction    lower_threshold    lift       cumulative_lift    response_rate    score      cumulative_response_rate    cumulative_score    capture_rate    cumulative_capture_rate    gain      cumulative_gain\n",
       "--  -------  --------------------------  -----------------  ---------  -----------------  ---------------  ---------  --------------------------  ------------------  --------------  -------------------------  --------  -----------------\n",
       "    1        0.0107527                   0.96476            2.8012     2.8012             1                0.970134   1                           0.970134            0.0301205       0.0301205                  180.12    180.12\n",
       "    2        0.0215054                   0.959842           2.8012     2.8012             1                0.963441   1                           0.966788            0.0301205       0.060241                   180.12    180.12\n",
       "    3        0.0301075                   0.948198           2.8012     2.8012             1                0.952824   1                           0.962798            0.0240964       0.0843373                  180.12    180.12\n",
       "    4        0.0408602                   0.944016           2.8012     2.8012             1                0.946246   1                           0.958442            0.0301205       0.114458                   180.12    180.12\n",
       "    5        0.0516129                   0.940243           2.8012     2.8012             1                0.942268   1                           0.955073            0.0301205       0.144578                   180.12    180.12\n",
       "    6        0.101075                    0.910936           2.8012     2.8012             1                0.924669   1                           0.940194            0.138554        0.283133                   180.12    180.12\n",
       "    7        0.150538                    0.868553           2.8012     2.8012             1                0.889815   1                           0.923641            0.138554        0.421687                   180.12    180.12\n",
       "    8        0.2                         0.797054           2.8012     2.8012             1                0.834641   1                           0.90163             0.138554        0.560241                   180.12    180.12\n",
       "    9        0.301075                    0.556327           2.8012     2.8012             1                0.680179   1                           0.827286            0.283133        0.843373                   180.12    180.12\n",
       "    10       0.4                         0.326087           1.15702    2.39458            0.413043         0.441848   0.854839                    0.731963            0.114458        0.957831                   15.7019   139.458\n",
       "    11       0.501075                    0.189518           0.357601   1.98369            0.12766          0.257074   0.708155                    0.63617             0.0361446       0.993976                   -64.2399  98.3686\n",
       "    12       0.6                         0.119706           0.0608958  1.66667            0.0217391        0.148143   0.594982                    0.555707            0.0060241       1                          -93.9104  66.6667\n",
       "    13       0.698925                    0.0837243          0          1.43077            0                0.101152   0.510769                    0.49137             0               1                          -100      43.0769\n",
       "    14       0.8                         0.0531339          0          1.25               0                0.0675576  0.446237                    0.437824            0               1                          -100      25\n",
       "    15       0.898925                    0.0342035          0          1.11244            0                0.042448   0.397129                    0.394313            0               1                          -100      11.244\n",
       "    16       1                           0.0187128          0          1                  0                0.0264826  0.356989                    0.357135            0               1                          -100      0"
      ]
     },
     "metadata": {},
     "output_type": "display_data"
    },
    {
     "name": "stdout",
     "output_type": "stream",
     "text": [
      "\n",
      "Scoring History: \n"
     ]
    },
    {
     "data": {
      "text/html": [
       "<div style=\"overflow:auto\"><table style=\"width:50%\"><tr><td><b></b></td>\n",
       "<td><b>timestamp</b></td>\n",
       "<td><b>duration</b></td>\n",
       "<td><b>number_of_trees</b></td>\n",
       "<td><b>training_rmse</b></td>\n",
       "<td><b>training_logloss</b></td>\n",
       "<td><b>training_auc</b></td>\n",
       "<td><b>training_pr_auc</b></td>\n",
       "<td><b>training_lift</b></td>\n",
       "<td><b>training_classification_error</b></td></tr>\n",
       "<tr><td></td>\n",
       "<td>2019-01-29 05:47:40</td>\n",
       "<td> 0.015 sec</td>\n",
       "<td>0.0</td>\n",
       "<td>0.4791116</td>\n",
       "<td>0.6516662</td>\n",
       "<td>0.5</td>\n",
       "<td>0.0</td>\n",
       "<td>1.0</td>\n",
       "<td>0.6430108</td></tr>\n",
       "<tr><td></td>\n",
       "<td>2019-01-29 05:47:41</td>\n",
       "<td> 0.193 sec</td>\n",
       "<td>1.0</td>\n",
       "<td>0.4566016</td>\n",
       "<td>0.6062100</td>\n",
       "<td>0.8991115</td>\n",
       "<td>0.5726834</td>\n",
       "<td>2.8012048</td>\n",
       "<td>0.1784946</td></tr>\n",
       "<tr><td></td>\n",
       "<td>2019-01-29 05:47:41</td>\n",
       "<td> 0.210 sec</td>\n",
       "<td>2.0</td>\n",
       "<td>0.4371737</td>\n",
       "<td>0.5688548</td>\n",
       "<td>0.9180501</td>\n",
       "<td>0.6699546</td>\n",
       "<td>2.8012048</td>\n",
       "<td>0.1548387</td></tr>\n",
       "<tr><td></td>\n",
       "<td>2019-01-29 05:47:41</td>\n",
       "<td> 0.223 sec</td>\n",
       "<td>3.0</td>\n",
       "<td>0.4205751</td>\n",
       "<td>0.5378978</td>\n",
       "<td>0.9199944</td>\n",
       "<td>0.6720556</td>\n",
       "<td>2.8012048</td>\n",
       "<td>0.1569892</td></tr>\n",
       "<tr><td></td>\n",
       "<td>2019-01-29 05:47:41</td>\n",
       "<td> 0.232 sec</td>\n",
       "<td>4.0</td>\n",
       "<td>0.4059872</td>\n",
       "<td>0.5111693</td>\n",
       "<td>0.9259379</td>\n",
       "<td>0.8401345</td>\n",
       "<td>2.8012048</td>\n",
       "<td>0.1483871</td></tr>\n",
       "<tr><td>---</td>\n",
       "<td>---</td>\n",
       "<td>---</td>\n",
       "<td>---</td>\n",
       "<td>---</td>\n",
       "<td>---</td>\n",
       "<td>---</td>\n",
       "<td>---</td>\n",
       "<td>---</td>\n",
       "<td>---</td></tr>\n",
       "<tr><td></td>\n",
       "<td>2019-01-29 05:47:41</td>\n",
       "<td> 0.507 sec</td>\n",
       "<td>46.0</td>\n",
       "<td>0.2413702</td>\n",
       "<td>0.2234642</td>\n",
       "<td>0.9872064</td>\n",
       "<td>0.9743236</td>\n",
       "<td>2.8012048</td>\n",
       "<td>0.0537634</td></tr>\n",
       "<tr><td></td>\n",
       "<td>2019-01-29 05:47:41</td>\n",
       "<td> 0.512 sec</td>\n",
       "<td>47.0</td>\n",
       "<td>0.2406076</td>\n",
       "<td>0.2224398</td>\n",
       "<td>0.9873675</td>\n",
       "<td>0.9746131</td>\n",
       "<td>2.8012048</td>\n",
       "<td>0.0537634</td></tr>\n",
       "<tr><td></td>\n",
       "<td>2019-01-29 05:47:41</td>\n",
       "<td> 0.519 sec</td>\n",
       "<td>48.0</td>\n",
       "<td>0.2389076</td>\n",
       "<td>0.2197529</td>\n",
       "<td>0.9876093</td>\n",
       "<td>0.9749423</td>\n",
       "<td>2.8012048</td>\n",
       "<td>0.0537634</td></tr>\n",
       "<tr><td></td>\n",
       "<td>2019-01-29 05:47:41</td>\n",
       "<td> 0.525 sec</td>\n",
       "<td>49.0</td>\n",
       "<td>0.2375624</td>\n",
       "<td>0.2179044</td>\n",
       "<td>0.9879720</td>\n",
       "<td>0.9754953</td>\n",
       "<td>2.8012048</td>\n",
       "<td>0.0516129</td></tr>\n",
       "<tr><td></td>\n",
       "<td>2019-01-29 05:47:41</td>\n",
       "<td> 0.530 sec</td>\n",
       "<td>50.0</td>\n",
       "<td>0.2322614</td>\n",
       "<td>0.2116405</td>\n",
       "<td>0.9899263</td>\n",
       "<td>0.9784924</td>\n",
       "<td>2.8012048</td>\n",
       "<td>0.0494624</td></tr></table></div>"
      ],
      "text/plain": [
       "     timestamp            duration    number_of_trees    training_rmse        training_logloss     training_auc        training_pr_auc     training_lift      training_classification_error\n",
       "---  -------------------  ----------  -----------------  -------------------  -------------------  ------------------  ------------------  -----------------  -------------------------------\n",
       "     2019-01-29 05:47:40  0.015 sec   0.0                0.47911159933314496  0.6516662199722991   0.5                 0.0                 1.0                0.6430107526881721\n",
       "     2019-01-29 05:47:41  0.193 sec   1.0                0.45660159380365134  0.6062100495400597   0.8991114961518314  0.5726834164651817  2.801204819277108  0.17849462365591398\n",
       "     2019-01-29 05:47:41  0.210 sec   2.0                0.4371736639749466   0.5688548438276857   0.9180501269291211  0.6699546249084227  2.801204819277108  0.15483870967741936\n",
       "     2019-01-29 05:47:41  0.223 sec   3.0                0.42057507402726807  0.5378978469420505   0.9199943587057259  0.6720556146532758  2.801204819277108  0.15698924731182795\n",
       "     2019-01-29 05:47:41  0.232 sec   4.0                0.4059871978973146   0.5111693324278693   0.9259378651730669  0.8401344731981402  2.801204819277108  0.14838709677419354\n",
       "---  ---                  ---         ---                ---                  ---                  ---                 ---                 ---                ---\n",
       "     2019-01-29 05:47:41  0.507 sec   46.0               0.24137021574348858  0.22346419481040292  0.9872063504855544  0.9743235518076974  2.801204819277108  0.053763440860215055\n",
       "     2019-01-29 05:47:41  0.512 sec   47.0               0.24060757430879762  0.222439845640081    0.9873675303219567  0.9746131304231574  2.801204819277108  0.053763440860215055\n",
       "     2019-01-29 05:47:41  0.519 sec   48.0               0.23890756755670148  0.21975294491043756  0.9876093000765604  0.9749422573387698  2.801204819277108  0.053763440860215055\n",
       "     2019-01-29 05:47:41  0.525 sec   49.0               0.23756239789012898  0.21790437816782626  0.987971954708466   0.9754953378053633  2.801204819277108  0.05161290322580645\n",
       "     2019-01-29 05:47:41  0.530 sec   50.0               0.2322614349101582   0.21164045617145613  0.9899262602248459  0.9784923662885114  2.801204819277108  0.04946236559139785"
      ]
     },
     "metadata": {},
     "output_type": "display_data"
    },
    {
     "name": "stdout",
     "output_type": "stream",
     "text": [
      "\n",
      "See the whole table with table.as_data_frame()\n",
      "Variable Importances: \n"
     ]
    },
    {
     "data": {
      "text/html": [
       "<div style=\"overflow:auto\"><table style=\"width:50%\"><tr><td><b>variable</b></td>\n",
       "<td><b>relative_importance</b></td>\n",
       "<td><b>scaled_importance</b></td>\n",
       "<td><b>percentage</b></td></tr>\n",
       "<tr><td>Glucose</td>\n",
       "<td>160.8897247</td>\n",
       "<td>1.0</td>\n",
       "<td>0.3861147</td></tr>\n",
       "<tr><td>BMI</td>\n",
       "<td>107.1570282</td>\n",
       "<td>0.6660278</td>\n",
       "<td>0.2571631</td></tr>\n",
       "<tr><td>DiabetesPedigreeFunction</td>\n",
       "<td>49.3825264</td>\n",
       "<td>0.3069340</td>\n",
       "<td>0.1185117</td></tr>\n",
       "<tr><td>Age</td>\n",
       "<td>28.7894745</td>\n",
       "<td>0.1789392</td>\n",
       "<td>0.0690910</td></tr>\n",
       "<tr><td>BloodPressure</td>\n",
       "<td>24.5161362</td>\n",
       "<td>0.1523785</td>\n",
       "<td>0.0588356</td></tr>\n",
       "<tr><td>Pregnancies</td>\n",
       "<td>22.0554619</td>\n",
       "<td>0.1370843</td>\n",
       "<td>0.0529303</td></tr>\n",
       "<tr><td>Insulin</td>\n",
       "<td>12.9495811</td>\n",
       "<td>0.0804873</td>\n",
       "<td>0.0310773</td></tr>\n",
       "<tr><td>SkinThickness</td>\n",
       "<td>10.9490166</td>\n",
       "<td>0.0680529</td>\n",
       "<td>0.0262762</td></tr></table></div>"
      ],
      "text/plain": [
       "variable                  relative_importance    scaled_importance    percentage\n",
       "------------------------  ---------------------  -------------------  ------------\n",
       "Glucose                   160.89                 1                    0.386115\n",
       "BMI                       107.157                0.666028             0.257163\n",
       "DiabetesPedigreeFunction  49.3825                0.306934             0.118512\n",
       "Age                       28.7895                0.178939             0.069091\n",
       "BloodPressure             24.5161                0.152379             0.0588356\n",
       "Pregnancies               22.0555                0.137084             0.0529303\n",
       "Insulin                   12.9496                0.0804873            0.0310773\n",
       "SkinThickness             10.949                 0.0680529            0.0262762"
      ]
     },
     "metadata": {},
     "output_type": "display_data"
    },
    {
     "name": "stdout",
     "output_type": "stream",
     "text": [
      "\n"
     ]
    }
   ],
   "source": [
    "print(gbm)"
   ]
  },
  {
   "cell_type": "markdown",
   "metadata": {
    "_uuid": "85f8a765eee36a425510747abc3fb8d33c4040d2"
   },
   "source": [
    "Now that is quite a bit of information. We can look at them individually.\n",
    "1. First, we get the name of the model and a key to acces the model ( key is not much useful for us I guess )\n",
    "2. Error metrics on the train data like log-loss, mean per class error, AUC, Gini, MSE, RMSE\n",
    "3. Confusion matrix for max F1 threshold\n",
    "4. Threshold values for different metrics\n",
    "5. Gains / Lift table \n",
    "6. Scoring history - information on how the metrics changed in each of the epochs\n",
    "7. Feature importance\n",
    "\n",
    "Okay. I heard you. How can we use the metrics of train set (as we actually trained on this dataset). We need to evaluate them from the valid set. We can use the *model_performance()* function for the same. We can then print the metrics. "
   ]
  },
  {
   "cell_type": "code",
   "execution_count": 12,
   "metadata": {
    "_uuid": "ff63ee07d7de276598c8c4445f37bb775541ca20"
   },
   "outputs": [
    {
     "name": "stdout",
     "output_type": "stream",
     "text": [
      "\n",
      "ModelMetricsBinomial: gbm\n",
      "** Reported on test data. **\n",
      "\n",
      "MSE: 0.18115330538099383\n",
      "RMSE: 0.4256210819273334\n",
      "LogLoss: 0.5366686568411096\n",
      "Mean Per-Class Error: 0.25621588841722254\n",
      "AUC: 0.804932282191227\n",
      "pr_auc: 0.6269893119126704\n",
      "Gini: 0.6098645643824541\n",
      "Confusion Matrix (Act/Pred) for max f1 @ threshold = 0.1458393490707833: \n"
     ]
    },
    {
     "data": {
      "text/html": [
       "<div style=\"overflow:auto\"><table style=\"width:50%\"><tr><td><b></b></td>\n",
       "<td><b>0</b></td>\n",
       "<td><b>1</b></td>\n",
       "<td><b>Error</b></td>\n",
       "<td><b>Rate</b></td></tr>\n",
       "<tr><td>0</td>\n",
       "<td>53.0</td>\n",
       "<td>44.0</td>\n",
       "<td>0.4536</td>\n",
       "<td> (44.0/97.0)</td></tr>\n",
       "<tr><td>1</td>\n",
       "<td>3.0</td>\n",
       "<td>48.0</td>\n",
       "<td>0.0588</td>\n",
       "<td> (3.0/51.0)</td></tr>\n",
       "<tr><td>Total</td>\n",
       "<td>56.0</td>\n",
       "<td>92.0</td>\n",
       "<td>0.3176</td>\n",
       "<td> (47.0/148.0)</td></tr></table></div>"
      ],
      "text/plain": [
       "       0    1    Error    Rate\n",
       "-----  ---  ---  -------  ------------\n",
       "0      53   44   0.4536   (44.0/97.0)\n",
       "1      3    48   0.0588   (3.0/51.0)\n",
       "Total  56   92   0.3176   (47.0/148.0)"
      ]
     },
     "metadata": {},
     "output_type": "display_data"
    },
    {
     "name": "stdout",
     "output_type": "stream",
     "text": [
      "Maximum Metrics: Maximum metrics at their respective thresholds\n",
      "\n"
     ]
    },
    {
     "data": {
      "text/html": [
       "<div style=\"overflow:auto\"><table style=\"width:50%\"><tr><td><b>metric</b></td>\n",
       "<td><b>threshold</b></td>\n",
       "<td><b>value</b></td>\n",
       "<td><b>idx</b></td></tr>\n",
       "<tr><td>max f1</td>\n",
       "<td>0.1458393</td>\n",
       "<td>0.6713287</td>\n",
       "<td>91.0</td></tr>\n",
       "<tr><td>max f2</td>\n",
       "<td>0.1125309</td>\n",
       "<td>0.8199357</td>\n",
       "<td>106.0</td></tr>\n",
       "<tr><td>max f0point5</td>\n",
       "<td>0.6684258</td>\n",
       "<td>0.6424581</td>\n",
       "<td>31.0</td></tr>\n",
       "<tr><td>max accuracy</td>\n",
       "<td>0.6684258</td>\n",
       "<td>0.75</td>\n",
       "<td>31.0</td></tr>\n",
       "<tr><td>max precision</td>\n",
       "<td>0.9807389</td>\n",
       "<td>1.0</td>\n",
       "<td>0.0</td></tr>\n",
       "<tr><td>max recall</td>\n",
       "<td>0.1125309</td>\n",
       "<td>1.0</td>\n",
       "<td>106.0</td></tr>\n",
       "<tr><td>max specificity</td>\n",
       "<td>0.9807389</td>\n",
       "<td>1.0</td>\n",
       "<td>0.0</td></tr>\n",
       "<tr><td>max absolute_mcc</td>\n",
       "<td>0.1458393</td>\n",
       "<td>0.4777695</td>\n",
       "<td>91.0</td></tr>\n",
       "<tr><td>max min_per_class_accuracy</td>\n",
       "<td>0.3285813</td>\n",
       "<td>0.6862745</td>\n",
       "<td>64.0</td></tr>\n",
       "<tr><td>max mean_per_class_accuracy</td>\n",
       "<td>0.1458393</td>\n",
       "<td>0.7437841</td>\n",
       "<td>91.0</td></tr></table></div>"
      ],
      "text/plain": [
       "metric                       threshold    value     idx\n",
       "---------------------------  -----------  --------  -----\n",
       "max f1                       0.145839     0.671329  91\n",
       "max f2                       0.112531     0.819936  106\n",
       "max f0point5                 0.668426     0.642458  31\n",
       "max accuracy                 0.668426     0.75      31\n",
       "max precision                0.980739     1         0\n",
       "max recall                   0.112531     1         106\n",
       "max specificity              0.980739     1         0\n",
       "max absolute_mcc             0.145839     0.477769  91\n",
       "max min_per_class_accuracy   0.328581     0.686275  64\n",
       "max mean_per_class_accuracy  0.145839     0.743784  91"
      ]
     },
     "metadata": {},
     "output_type": "display_data"
    },
    {
     "name": "stdout",
     "output_type": "stream",
     "text": [
      "Gains/Lift Table: Avg response rate: 34.46 %, avg score: 36.45 %\n",
      "\n"
     ]
    },
    {
     "data": {
      "text/html": [
       "<div style=\"overflow:auto\"><table style=\"width:50%\"><tr><td><b></b></td>\n",
       "<td><b>group</b></td>\n",
       "<td><b>cumulative_data_fraction</b></td>\n",
       "<td><b>lower_threshold</b></td>\n",
       "<td><b>lift</b></td>\n",
       "<td><b>cumulative_lift</b></td>\n",
       "<td><b>response_rate</b></td>\n",
       "<td><b>score</b></td>\n",
       "<td><b>cumulative_response_rate</b></td>\n",
       "<td><b>cumulative_score</b></td>\n",
       "<td><b>capture_rate</b></td>\n",
       "<td><b>cumulative_capture_rate</b></td>\n",
       "<td><b>gain</b></td>\n",
       "<td><b>cumulative_gain</b></td></tr>\n",
       "<tr><td></td>\n",
       "<td>1</td>\n",
       "<td>0.0135135</td>\n",
       "<td>0.9730977</td>\n",
       "<td>1.4509804</td>\n",
       "<td>1.4509804</td>\n",
       "<td>0.5</td>\n",
       "<td>0.9772279</td>\n",
       "<td>0.5</td>\n",
       "<td>0.9772279</td>\n",
       "<td>0.0196078</td>\n",
       "<td>0.0196078</td>\n",
       "<td>45.0980392</td>\n",
       "<td>45.0980392</td></tr>\n",
       "<tr><td></td>\n",
       "<td>2</td>\n",
       "<td>0.0202703</td>\n",
       "<td>0.9668724</td>\n",
       "<td>2.9019608</td>\n",
       "<td>1.9346405</td>\n",
       "<td>1.0</td>\n",
       "<td>0.9723995</td>\n",
       "<td>0.6666667</td>\n",
       "<td>0.9756184</td>\n",
       "<td>0.0196078</td>\n",
       "<td>0.0392157</td>\n",
       "<td>190.1960784</td>\n",
       "<td>93.4640523</td></tr>\n",
       "<tr><td></td>\n",
       "<td>3</td>\n",
       "<td>0.0337838</td>\n",
       "<td>0.9523557</td>\n",
       "<td>2.9019608</td>\n",
       "<td>2.3215686</td>\n",
       "<td>1.0</td>\n",
       "<td>0.9637757</td>\n",
       "<td>0.8</td>\n",
       "<td>0.9708814</td>\n",
       "<td>0.0392157</td>\n",
       "<td>0.0784314</td>\n",
       "<td>190.1960784</td>\n",
       "<td>132.1568627</td></tr>\n",
       "<tr><td></td>\n",
       "<td>4</td>\n",
       "<td>0.0405405</td>\n",
       "<td>0.9279944</td>\n",
       "<td>2.9019608</td>\n",
       "<td>2.4183007</td>\n",
       "<td>1.0</td>\n",
       "<td>0.9398704</td>\n",
       "<td>0.8333333</td>\n",
       "<td>0.9657129</td>\n",
       "<td>0.0196078</td>\n",
       "<td>0.0980392</td>\n",
       "<td>190.1960784</td>\n",
       "<td>141.8300654</td></tr>\n",
       "<tr><td></td>\n",
       "<td>5</td>\n",
       "<td>0.0540541</td>\n",
       "<td>0.9231616</td>\n",
       "<td>1.4509804</td>\n",
       "<td>2.1764706</td>\n",
       "<td>0.5</td>\n",
       "<td>0.9254153</td>\n",
       "<td>0.75</td>\n",
       "<td>0.9556385</td>\n",
       "<td>0.0196078</td>\n",
       "<td>0.1176471</td>\n",
       "<td>45.0980392</td>\n",
       "<td>117.6470588</td></tr>\n",
       "<tr><td></td>\n",
       "<td>6</td>\n",
       "<td>0.1013514</td>\n",
       "<td>0.8922442</td>\n",
       "<td>2.0728291</td>\n",
       "<td>2.1281046</td>\n",
       "<td>0.7142857</td>\n",
       "<td>0.9063491</td>\n",
       "<td>0.7333333</td>\n",
       "<td>0.9326368</td>\n",
       "<td>0.0980392</td>\n",
       "<td>0.2156863</td>\n",
       "<td>107.2829132</td>\n",
       "<td>112.8104575</td></tr>\n",
       "<tr><td></td>\n",
       "<td>7</td>\n",
       "<td>0.1554054</td>\n",
       "<td>0.8360014</td>\n",
       "<td>2.1764706</td>\n",
       "<td>2.1449275</td>\n",
       "<td>0.75</td>\n",
       "<td>0.8618247</td>\n",
       "<td>0.7391304</td>\n",
       "<td>0.9080065</td>\n",
       "<td>0.1176471</td>\n",
       "<td>0.3333333</td>\n",
       "<td>117.6470588</td>\n",
       "<td>114.4927536</td></tr>\n",
       "<tr><td></td>\n",
       "<td>8</td>\n",
       "<td>0.2027027</td>\n",
       "<td>0.7225152</td>\n",
       "<td>1.6582633</td>\n",
       "<td>2.0313725</td>\n",
       "<td>0.5714286</td>\n",
       "<td>0.7730923</td>\n",
       "<td>0.7</td>\n",
       "<td>0.8765265</td>\n",
       "<td>0.0784314</td>\n",
       "<td>0.4117647</td>\n",
       "<td>65.8263305</td>\n",
       "<td>103.1372549</td></tr>\n",
       "<tr><td></td>\n",
       "<td>9</td>\n",
       "<td>0.3040541</td>\n",
       "<td>0.5171489</td>\n",
       "<td>1.5477124</td>\n",
       "<td>1.8701525</td>\n",
       "<td>0.5333333</td>\n",
       "<td>0.6056568</td>\n",
       "<td>0.6444444</td>\n",
       "<td>0.7862366</td>\n",
       "<td>0.1568627</td>\n",
       "<td>0.5686275</td>\n",
       "<td>54.7712418</td>\n",
       "<td>87.0152505</td></tr>\n",
       "<tr><td></td>\n",
       "<td>10</td>\n",
       "<td>0.3986486</td>\n",
       "<td>0.4098378</td>\n",
       "<td>1.0364146</td>\n",
       "<td>1.6723164</td>\n",
       "<td>0.3571429</td>\n",
       "<td>0.4615336</td>\n",
       "<td>0.5762712</td>\n",
       "<td>0.7091884</td>\n",
       "<td>0.0980392</td>\n",
       "<td>0.6666667</td>\n",
       "<td>3.6414566</td>\n",
       "<td>67.2316384</td></tr>\n",
       "<tr><td></td>\n",
       "<td>11</td>\n",
       "<td>0.5</td>\n",
       "<td>0.2558158</td>\n",
       "<td>0.9673203</td>\n",
       "<td>1.5294118</td>\n",
       "<td>0.3333333</td>\n",
       "<td>0.3140721</td>\n",
       "<td>0.5270270</td>\n",
       "<td>0.6290973</td>\n",
       "<td>0.0980392</td>\n",
       "<td>0.7647059</td>\n",
       "<td>-3.2679739</td>\n",
       "<td>52.9411765</td></tr>\n",
       "<tr><td></td>\n",
       "<td>12</td>\n",
       "<td>0.6013514</td>\n",
       "<td>0.1468478</td>\n",
       "<td>1.3542484</td>\n",
       "<td>1.4998898</td>\n",
       "<td>0.4666667</td>\n",
       "<td>0.1960764</td>\n",
       "<td>0.5168539</td>\n",
       "<td>0.5561162</td>\n",
       "<td>0.1372549</td>\n",
       "<td>0.9019608</td>\n",
       "<td>35.4248366</td>\n",
       "<td>49.9889844</td></tr>\n",
       "<tr><td></td>\n",
       "<td>13</td>\n",
       "<td>0.6959459</td>\n",
       "<td>0.1158183</td>\n",
       "<td>0.6218487</td>\n",
       "<td>1.3805445</td>\n",
       "<td>0.2142857</td>\n",
       "<td>0.1345318</td>\n",
       "<td>0.4757282</td>\n",
       "<td>0.4988135</td>\n",
       "<td>0.0588235</td>\n",
       "<td>0.9607843</td>\n",
       "<td>-37.8151261</td>\n",
       "<td>38.0544451</td></tr>\n",
       "<tr><td></td>\n",
       "<td>14</td>\n",
       "<td>0.7972973</td>\n",
       "<td>0.0623975</td>\n",
       "<td>0.3869281</td>\n",
       "<td>1.2542373</td>\n",
       "<td>0.1333333</td>\n",
       "<td>0.0911935</td>\n",
       "<td>0.4322034</td>\n",
       "<td>0.4469974</td>\n",
       "<td>0.0392157</td>\n",
       "<td>1.0</td>\n",
       "<td>-61.3071895</td>\n",
       "<td>25.4237288</td></tr>\n",
       "<tr><td></td>\n",
       "<td>15</td>\n",
       "<td>0.8986486</td>\n",
       "<td>0.0398863</td>\n",
       "<td>0.0</td>\n",
       "<td>1.1127820</td>\n",
       "<td>0.0</td>\n",
       "<td>0.0496852</td>\n",
       "<td>0.3834586</td>\n",
       "<td>0.4021877</td>\n",
       "<td>0.0</td>\n",
       "<td>1.0</td>\n",
       "<td>-100.0</td>\n",
       "<td>11.2781955</td></tr>\n",
       "<tr><td></td>\n",
       "<td>16</td>\n",
       "<td>1.0</td>\n",
       "<td>0.0199636</td>\n",
       "<td>0.0</td>\n",
       "<td>1.0</td>\n",
       "<td>0.0</td>\n",
       "<td>0.0302071</td>\n",
       "<td>0.3445946</td>\n",
       "<td>0.3644870</td>\n",
       "<td>0.0</td>\n",
       "<td>1.0</td>\n",
       "<td>-100.0</td>\n",
       "<td>0.0</td></tr></table></div>"
      ],
      "text/plain": [
       "    group    cumulative_data_fraction    lower_threshold    lift      cumulative_lift    response_rate    score      cumulative_response_rate    cumulative_score    capture_rate    cumulative_capture_rate    gain      cumulative_gain\n",
       "--  -------  --------------------------  -----------------  --------  -----------------  ---------------  ---------  --------------------------  ------------------  --------------  -------------------------  --------  -----------------\n",
       "    1        0.0135135                   0.973098           1.45098   1.45098            0.5              0.977228   0.5                         0.977228            0.0196078       0.0196078                  45.098    45.098\n",
       "    2        0.0202703                   0.966872           2.90196   1.93464            1                0.9724     0.666667                    0.975618            0.0196078       0.0392157                  190.196   93.4641\n",
       "    3        0.0337838                   0.952356           2.90196   2.32157            1                0.963776   0.8                         0.970881            0.0392157       0.0784314                  190.196   132.157\n",
       "    4        0.0405405                   0.927994           2.90196   2.4183             1                0.93987    0.833333                    0.965713            0.0196078       0.0980392                  190.196   141.83\n",
       "    5        0.0540541                   0.923162           1.45098   2.17647            0.5              0.925415   0.75                        0.955638            0.0196078       0.117647                   45.098    117.647\n",
       "    6        0.101351                    0.892244           2.07283   2.1281             0.714286         0.906349   0.733333                    0.932637            0.0980392       0.215686                   107.283   112.81\n",
       "    7        0.155405                    0.836001           2.17647   2.14493            0.75             0.861825   0.73913                     0.908006            0.117647        0.333333                   117.647   114.493\n",
       "    8        0.202703                    0.722515           1.65826   2.03137            0.571429         0.773092   0.7                         0.876527            0.0784314       0.411765                   65.8263   103.137\n",
       "    9        0.304054                    0.517149           1.54771   1.87015            0.533333         0.605657   0.644444                    0.786237            0.156863        0.568627                   54.7712   87.0153\n",
       "    10       0.398649                    0.409838           1.03641   1.67232            0.357143         0.461534   0.576271                    0.709188            0.0980392       0.666667                   3.64146   67.2316\n",
       "    11       0.5                         0.255816           0.96732   1.52941            0.333333         0.314072   0.527027                    0.629097            0.0980392       0.764706                   -3.26797  52.9412\n",
       "    12       0.601351                    0.146848           1.35425   1.49989            0.466667         0.196076   0.516854                    0.556116            0.137255        0.901961                   35.4248   49.989\n",
       "    13       0.695946                    0.115818           0.621849  1.38054            0.214286         0.134532   0.475728                    0.498813            0.0588235       0.960784                   -37.8151  38.0544\n",
       "    14       0.797297                    0.0623975          0.386928  1.25424            0.133333         0.0911935  0.432203                    0.446997            0.0392157       1                          -61.3072  25.4237\n",
       "    15       0.898649                    0.0398863          0         1.11278            0                0.0496852  0.383459                    0.402188            0               1                          -100      11.2782\n",
       "    16       1                           0.0199636          0         1                  0                0.0302071  0.344595                    0.364487            0               1                          -100      0"
      ]
     },
     "metadata": {},
     "output_type": "display_data"
    },
    {
     "name": "stdout",
     "output_type": "stream",
     "text": [
      "\n",
      "\n"
     ]
    }
   ],
   "source": [
    "perf = gbm.model_performance(valid)\n",
    "print(perf)"
   ]
  },
  {
   "cell_type": "markdown",
   "metadata": {
    "_uuid": "7db26fa60ec1c70378649fcc835877e56e598873"
   },
   "source": [
    "So using our baseline model, we are getting about 0.8 auc in valid set and 0.98 auc in train set. Similarly, log loss is 0.53 in valid set and 0.21 in train set. \n",
    "\n",
    "Now we can use the validation set to tune our parameters. We can use the early stopping to find the number of iterations to train similar to other GBM implementations. We can set some random values for the parameters to start with. Please note that, we have added a new *validation_frame* parameter in this one compared to the previous one while training. "
   ]
  },
  {
   "cell_type": "code",
   "execution_count": 13,
   "metadata": {
    "_uuid": "d82fc0aa8c47d88e787698cab0d1c0f24964dcea",
    "scrolled": true
   },
   "outputs": [
    {
     "name": "stdout",
     "output_type": "stream",
     "text": [
      "gbm Model Build progress: |███████████████████████████████████████████████| 100%\n"
     ]
    }
   ],
   "source": [
    "gbm_tune = H2OGradientBoostingEstimator(\n",
    "    ntrees = 3000,\n",
    "    learn_rate = 0.01,\n",
    "    stopping_rounds = 20,\n",
    "    stopping_metric = \"AUC\",\n",
    "    col_sample_rate = 0.7,\n",
    "    sample_rate = 0.7,\n",
    "    seed = 1234\n",
    ")      \n",
    "gbm_tune.train(x=predictors, y=response, training_frame=train, validation_frame=valid)"
   ]
  },
  {
   "cell_type": "markdown",
   "metadata": {
    "_uuid": "a7a07a80416927558a1a077d93d2bbf01447b3fc"
   },
   "source": [
    "Now let us check the validation auc to check the performance."
   ]
  },
  {
   "cell_type": "code",
   "execution_count": 14,
   "metadata": {
    "_uuid": "34c9d4d72deb864223e275e5ab13854841e756e3"
   },
   "outputs": [
    {
     "data": {
      "text/plain": [
       "0.8019001414998989"
      ]
     },
     "execution_count": 14,
     "metadata": {},
     "output_type": "execute_result"
    }
   ],
   "source": [
    "gbm_tune.model_performance(valid).auc()"
   ]
  },
  {
   "cell_type": "markdown",
   "metadata": {
    "_uuid": "59acdd59e99e6cca909b829cd2ab5a19bb7b46e4"
   },
   "source": [
    "We are getting similar performance (0.8 valid AUC) using this new model with early stopping too. \n",
    "\n",
    "**Grid Search:**\n",
    "\n",
    "Now let us do grid search to find the best paramters for GBM model. "
   ]
  },
  {
   "cell_type": "code",
   "execution_count": 15,
   "metadata": {
    "_uuid": "09c93530f3ab9e0c45011f257ef29e2b07b22de1"
   },
   "outputs": [
    {
     "name": "stdout",
     "output_type": "stream",
     "text": [
      "gbm Grid Build progress: |████████████████████████████████████████████████| 100%\n"
     ]
    }
   ],
   "source": [
    "from h2o.grid.grid_search import H2OGridSearch\n",
    "\n",
    "gbm_grid = H2OGradientBoostingEstimator(\n",
    "    ntrees = 3000,\n",
    "    learn_rate = 0.01,\n",
    "    stopping_rounds = 20,\n",
    "    stopping_metric = \"AUC\",\n",
    "    col_sample_rate = 0.7,\n",
    "    sample_rate = 0.7,\n",
    "    seed = 1234\n",
    ") \n",
    "\n",
    "hyper_params = {'max_depth':[4,6,8,10,12]}\n",
    "grid = H2OGridSearch(gbm_grid, hyper_params,\n",
    "                         grid_id='depth_grid',\n",
    "                         search_criteria={'strategy': \"Cartesian\"})\n",
    "#Train grid search\n",
    "grid.train(x=predictors, \n",
    "           y=response,\n",
    "           training_frame=train,\n",
    "           validation_frame=valid)"
   ]
  },
  {
   "cell_type": "code",
   "execution_count": 16,
   "metadata": {
    "_uuid": "192d673d0b7ae4270f4907a904a48f3d713c3eff"
   },
   "outputs": [
    {
     "name": "stdout",
     "output_type": "stream",
     "text": [
      "    max_depth           model_ids             logloss\n",
      "0          10  depth_grid_model_4  0.5610332739005056\n",
      "1          12  depth_grid_model_5  0.5610431620153586\n",
      "2           8  depth_grid_model_3  0.5618675574114658\n",
      "3           6  depth_grid_model_2  0.5688369200105283\n",
      "4           4  depth_grid_model_1  0.5720338350452505\n",
      "\n"
     ]
    }
   ],
   "source": [
    "print(grid)"
   ]
  },
  {
   "cell_type": "markdown",
   "metadata": {
    "_uuid": "7ff41b94b0b083bf6cc24c0fb1353a0d54deb4c4"
   },
   "source": [
    "So this has printed the log loss performance at various depths. If we want to look at the validation AUC, then we can use the following."
   ]
  },
  {
   "cell_type": "code",
   "execution_count": 17,
   "metadata": {
    "_uuid": "6ec9dc6f496957337b2aef1995dc7b4a911b5cdc",
    "scrolled": true
   },
   "outputs": [
    {
     "name": "stdout",
     "output_type": "stream",
     "text": [
      "    max_depth           model_ids                 auc\n",
      "0          12  depth_grid_model_5  0.8067515666060238\n",
      "1          10  depth_grid_model_4  0.8067515666060238\n",
      "2           8  depth_grid_model_3  0.8033151404891854\n",
      "3           6  depth_grid_model_2  0.8031129977764302\n",
      "4           4  depth_grid_model_1  0.7984637153830605\n",
      "\n"
     ]
    }
   ],
   "source": [
    "sorted_grid = grid.get_grid(sort_by='auc',decreasing=True)\n",
    "print(sorted_grid)"
   ]
  },
  {
   "cell_type": "markdown",
   "metadata": {
    "_uuid": "f68f2d96e0cce69bcbaeddf96412406e75b120ca"
   },
   "source": [
    "Interestingly, there is not much change in the AUC for the top two results. Since we train on a very small sample, we might be getting this.\n",
    "\n",
    "Also please note that, we just searched for the *max_depth* parameter. Please do a more comprehensive search for better results. Please refer to this [notebook](https://github.com/h2oai/h2o-3/blob/master/h2o-docs/src/product/tutorials/gbm/gbmTuning.ipynb) for more comprehensive details on finetuning. \n",
    "\n",
    "**K-Fold cross validation:**\n",
    "\n",
    "Most of the times, we will just do K-fold cross valdiation. So now let us do the same using H2O. Just setting the *nfolds* parameter in the model will do the k-fold cross validation."
   ]
  },
  {
   "cell_type": "code",
   "execution_count": 18,
   "metadata": {
    "_uuid": "a4c2d034be186b4b95b45507b70710f48a1910bd",
    "scrolled": true
   },
   "outputs": [
    {
     "name": "stdout",
     "output_type": "stream",
     "text": [
      "gbm Model Build progress: |███████████████████████████████████████████████| 100%\n"
     ]
    },
    {
     "data": {
      "text/html": [
       "<div>\n",
       "<style scoped>\n",
       "    .dataframe tbody tr th:only-of-type {\n",
       "        vertical-align: middle;\n",
       "    }\n",
       "\n",
       "    .dataframe tbody tr th {\n",
       "        vertical-align: top;\n",
       "    }\n",
       "\n",
       "    .dataframe thead th {\n",
       "        text-align: right;\n",
       "    }\n",
       "</style>\n",
       "<table border=\"1\" class=\"dataframe\">\n",
       "  <thead>\n",
       "    <tr style=\"text-align: right;\">\n",
       "      <th></th>\n",
       "      <th></th>\n",
       "      <th>mean</th>\n",
       "      <th>sd</th>\n",
       "      <th>cv_1_valid</th>\n",
       "      <th>cv_2_valid</th>\n",
       "      <th>cv_3_valid</th>\n",
       "      <th>cv_4_valid</th>\n",
       "    </tr>\n",
       "  </thead>\n",
       "  <tbody>\n",
       "    <tr>\n",
       "      <th>0</th>\n",
       "      <td>accuracy</td>\n",
       "      <td>0.8060614</td>\n",
       "      <td>0.017677339</td>\n",
       "      <td>0.81512606</td>\n",
       "      <td>0.84166664</td>\n",
       "      <td>0.775</td>\n",
       "      <td>0.7924528</td>\n",
       "    </tr>\n",
       "    <tr>\n",
       "      <th>1</th>\n",
       "      <td>auc</td>\n",
       "      <td>0.83460003</td>\n",
       "      <td>0.015514333</td>\n",
       "      <td>0.8711854</td>\n",
       "      <td>0.82493657</td>\n",
       "      <td>0.81303704</td>\n",
       "      <td>0.8292411</td>\n",
       "    </tr>\n",
       "    <tr>\n",
       "      <th>2</th>\n",
       "      <td>err</td>\n",
       "      <td>0.19393861</td>\n",
       "      <td>0.017677339</td>\n",
       "      <td>0.18487395</td>\n",
       "      <td>0.15833333</td>\n",
       "      <td>0.225</td>\n",
       "      <td>0.20754717</td>\n",
       "    </tr>\n",
       "    <tr>\n",
       "      <th>3</th>\n",
       "      <td>err_count</td>\n",
       "      <td>22.5</td>\n",
       "      <td>2.0310097</td>\n",
       "      <td>22.0</td>\n",
       "      <td>19.0</td>\n",
       "      <td>27.0</td>\n",
       "      <td>22.0</td>\n",
       "    </tr>\n",
       "    <tr>\n",
       "      <th>4</th>\n",
       "      <td>f0point5</td>\n",
       "      <td>0.7166275</td>\n",
       "      <td>0.014608963</td>\n",
       "      <td>0.7432432</td>\n",
       "      <td>0.6993007</td>\n",
       "      <td>0.6938776</td>\n",
       "      <td>0.7300885</td>\n",
       "    </tr>\n",
       "    <tr>\n",
       "      <th>5</th>\n",
       "      <td>f1</td>\n",
       "      <td>0.7359389</td>\n",
       "      <td>0.031757645</td>\n",
       "      <td>0.8</td>\n",
       "      <td>0.6779661</td>\n",
       "      <td>0.7157895</td>\n",
       "      <td>0.75</td>\n",
       "    </tr>\n",
       "    <tr>\n",
       "      <th>6</th>\n",
       "      <td>f2</td>\n",
       "      <td>0.75854874</td>\n",
       "      <td>0.05272604</td>\n",
       "      <td>0.86614174</td>\n",
       "      <td>0.65789473</td>\n",
       "      <td>0.73913044</td>\n",
       "      <td>0.77102804</td>\n",
       "    </tr>\n",
       "    <tr>\n",
       "      <th>7</th>\n",
       "      <td>lift_top_group</td>\n",
       "      <td>2.0913858</td>\n",
       "      <td>0.39809096</td>\n",
       "      <td>1.2395834</td>\n",
       "      <td>1.9354838</td>\n",
       "      <td>2.6666667</td>\n",
       "      <td>2.5238094</td>\n",
       "    </tr>\n",
       "    <tr>\n",
       "      <th>8</th>\n",
       "      <td>logloss</td>\n",
       "      <td>0.4842181</td>\n",
       "      <td>0.018892443</td>\n",
       "      <td>0.46077308</td>\n",
       "      <td>0.45635447</td>\n",
       "      <td>0.52019364</td>\n",
       "      <td>0.49955118</td>\n",
       "    </tr>\n",
       "    <tr>\n",
       "      <th>9</th>\n",
       "      <td>max_per_class_error</td>\n",
       "      <td>0.2667725</td>\n",
       "      <td>0.037390944</td>\n",
       "      <td>0.2535211</td>\n",
       "      <td>0.3548387</td>\n",
       "      <td>0.24444444</td>\n",
       "      <td>0.21428572</td>\n",
       "    </tr>\n",
       "    <tr>\n",
       "      <th>10</th>\n",
       "      <td>mcc</td>\n",
       "      <td>0.58331674</td>\n",
       "      <td>0.030295957</td>\n",
       "      <td>0.65121645</td>\n",
       "      <td>0.5746587</td>\n",
       "      <td>0.5324516</td>\n",
       "      <td>0.5749401</td>\n",
       "    </tr>\n",
       "    <tr>\n",
       "      <th>11</th>\n",
       "      <td>mean_per_class_accuracy</td>\n",
       "      <td>0.79290384</td>\n",
       "      <td>0.016605271</td>\n",
       "      <td>0.8315728</td>\n",
       "      <td>0.7776368</td>\n",
       "      <td>0.77111113</td>\n",
       "      <td>0.79129463</td>\n",
       "    </tr>\n",
       "    <tr>\n",
       "      <th>12</th>\n",
       "      <td>mean_per_class_error</td>\n",
       "      <td>0.20709616</td>\n",
       "      <td>0.016605271</td>\n",
       "      <td>0.16842723</td>\n",
       "      <td>0.22236317</td>\n",
       "      <td>0.22888888</td>\n",
       "      <td>0.20870535</td>\n",
       "    </tr>\n",
       "    <tr>\n",
       "      <th>13</th>\n",
       "      <td>mse</td>\n",
       "      <td>0.1554569</td>\n",
       "      <td>0.005364477</td>\n",
       "      <td>0.14931631</td>\n",
       "      <td>0.14733355</td>\n",
       "      <td>0.16610987</td>\n",
       "      <td>0.1590679</td>\n",
       "    </tr>\n",
       "    <tr>\n",
       "      <th>14</th>\n",
       "      <td>precision</td>\n",
       "      <td>0.7053386</td>\n",
       "      <td>0.0105249025</td>\n",
       "      <td>0.7096774</td>\n",
       "      <td>0.71428573</td>\n",
       "      <td>0.68</td>\n",
       "      <td>0.7173913</td>\n",
       "    </tr>\n",
       "    <tr>\n",
       "      <th>15</th>\n",
       "      <td>r2</td>\n",
       "      <td>0.30923334</td>\n",
       "      <td>0.038815845</td>\n",
       "      <td>0.37955743</td>\n",
       "      <td>0.23102464</td>\n",
       "      <td>0.29126453</td>\n",
       "      <td>0.33508673</td>\n",
       "    </tr>\n",
       "    <tr>\n",
       "      <th>16</th>\n",
       "      <td>recall</td>\n",
       "      <td>0.7757745</td>\n",
       "      <td>0.06839044</td>\n",
       "      <td>0.9166667</td>\n",
       "      <td>0.6451613</td>\n",
       "      <td>0.75555557</td>\n",
       "      <td>0.78571427</td>\n",
       "    </tr>\n",
       "    <tr>\n",
       "      <th>17</th>\n",
       "      <td>rmse</td>\n",
       "      <td>0.39416355</td>\n",
       "      <td>0.0067826547</td>\n",
       "      <td>0.38641468</td>\n",
       "      <td>0.38384053</td>\n",
       "      <td>0.4075658</td>\n",
       "      <td>0.39883316</td>\n",
       "    </tr>\n",
       "    <tr>\n",
       "      <th>18</th>\n",
       "      <td>specificity</td>\n",
       "      <td>0.8100332</td>\n",
       "      <td>0.04297401</td>\n",
       "      <td>0.74647886</td>\n",
       "      <td>0.9101124</td>\n",
       "      <td>0.7866667</td>\n",
       "      <td>0.796875</td>\n",
       "    </tr>\n",
       "  </tbody>\n",
       "</table>\n",
       "</div>"
      ],
      "text/plain": [
       "                                   mean            sd  cv_1_valid  cv_2_valid  \\\n",
       "0                  accuracy   0.8060614   0.017677339  0.81512606  0.84166664   \n",
       "1                       auc  0.83460003   0.015514333   0.8711854  0.82493657   \n",
       "2                       err  0.19393861   0.017677339  0.18487395  0.15833333   \n",
       "3                 err_count        22.5     2.0310097        22.0        19.0   \n",
       "4                  f0point5   0.7166275   0.014608963   0.7432432   0.6993007   \n",
       "5                        f1   0.7359389   0.031757645         0.8   0.6779661   \n",
       "6                        f2  0.75854874    0.05272604  0.86614174  0.65789473   \n",
       "7            lift_top_group   2.0913858    0.39809096   1.2395834   1.9354838   \n",
       "8                   logloss   0.4842181   0.018892443  0.46077308  0.45635447   \n",
       "9       max_per_class_error   0.2667725   0.037390944   0.2535211   0.3548387   \n",
       "10                      mcc  0.58331674   0.030295957  0.65121645   0.5746587   \n",
       "11  mean_per_class_accuracy  0.79290384   0.016605271   0.8315728   0.7776368   \n",
       "12     mean_per_class_error  0.20709616   0.016605271  0.16842723  0.22236317   \n",
       "13                      mse   0.1554569   0.005364477  0.14931631  0.14733355   \n",
       "14                precision   0.7053386  0.0105249025   0.7096774  0.71428573   \n",
       "15                       r2  0.30923334   0.038815845  0.37955743  0.23102464   \n",
       "16                   recall   0.7757745    0.06839044   0.9166667   0.6451613   \n",
       "17                     rmse  0.39416355  0.0067826547  0.38641468  0.38384053   \n",
       "18              specificity   0.8100332    0.04297401  0.74647886   0.9101124   \n",
       "\n",
       "    cv_3_valid  cv_4_valid  \n",
       "0        0.775   0.7924528  \n",
       "1   0.81303704   0.8292411  \n",
       "2        0.225  0.20754717  \n",
       "3         27.0        22.0  \n",
       "4    0.6938776   0.7300885  \n",
       "5    0.7157895        0.75  \n",
       "6   0.73913044  0.77102804  \n",
       "7    2.6666667   2.5238094  \n",
       "8   0.52019364  0.49955118  \n",
       "9   0.24444444  0.21428572  \n",
       "10   0.5324516   0.5749401  \n",
       "11  0.77111113  0.79129463  \n",
       "12  0.22888888  0.20870535  \n",
       "13  0.16610987   0.1590679  \n",
       "14        0.68   0.7173913  \n",
       "15  0.29126453  0.33508673  \n",
       "16  0.75555557  0.78571427  \n",
       "17   0.4075658  0.39883316  \n",
       "18   0.7866667    0.796875  "
      ]
     },
     "execution_count": 18,
     "metadata": {},
     "output_type": "execute_result"
    }
   ],
   "source": [
    "cv_gbm = H2OGradientBoostingEstimator(\n",
    "    ntrees = 3000,\n",
    "    learn_rate = 0.05,\n",
    "    stopping_rounds = 20,\n",
    "    stopping_metric = \"AUC\",\n",
    "    nfolds=4, \n",
    "    seed=2018)\n",
    "cv_gbm.train(x = predictors, y = response, training_frame = train, validation_frame=valid)\n",
    "cv_summary = cv_gbm.cross_validation_metrics_summary().as_data_frame()\n",
    "cv_summary"
   ]
  },
  {
   "cell_type": "markdown",
   "metadata": {
    "_uuid": "a74d4b3aa910c2e932763e63162c83010daf0fd5"
   },
   "source": [
    "Now let us test the performance on the valid set just like before. "
   ]
  },
  {
   "cell_type": "code",
   "execution_count": 19,
   "metadata": {
    "_uuid": "f760802df46f149151672e7427ce2afc87c254ca"
   },
   "outputs": [
    {
     "data": {
      "text/plain": [
       "0.8059429957550029"
      ]
     },
     "execution_count": 19,
     "metadata": {},
     "output_type": "execute_result"
    }
   ],
   "source": [
    "cv_gbm.model_performance(valid).auc()"
   ]
  },
  {
   "cell_type": "markdown",
   "metadata": {
    "_uuid": "4fb220212610a811769467a423d2103e312a97e0"
   },
   "source": [
    "**XGBoost:**\n",
    "\n",
    "Recently H2O has also added the XGBoost version of GBM into its kitty. Now let us see how to use the XGBoost model in H2O. We follow the same code convention as that of GBM except that we will use *H2OXGBoostEstimator* function. "
   ]
  },
  {
   "cell_type": "code",
   "execution_count": 20,
   "metadata": {
    "_uuid": "cae3487ac5a582f3f19b56730a6aa3c3a5be127e"
   },
   "outputs": [
    {
     "ename": "H2OResponseError",
     "evalue": "Server error water.exceptions.H2ONotFoundArgumentException:\n  Error: POST /3/ModelBuilders/xgboost not found\n  Request: POST /3/ModelBuilders/xgboost\n    data: {'ntrees': '3000', 'learn_rate': '0.05', 'stopping_rounds': '20', 'stopping_metric': 'AUC', 'nfolds': '4', 'seed': '2018', 'training_frame': 'py_62_sid_8a24', 'validation_frame': 'py_63_sid_8a24', 'response_column': 'Outcome'}\n",
     "output_type": "error",
     "traceback": [
      "\u001b[1;31m---------------------------------------------------------------------------\u001b[0m",
      "\u001b[1;31mH2OResponseError\u001b[0m                          Traceback (most recent call last)",
      "\u001b[1;32m<ipython-input-20-0b2397680077>\u001b[0m in \u001b[0;36m<module>\u001b[1;34m()\u001b[0m\n\u001b[0;32m      8\u001b[0m     \u001b[0mnfolds\u001b[0m\u001b[1;33m=\u001b[0m\u001b[1;36m4\u001b[0m\u001b[1;33m,\u001b[0m\u001b[1;33m\u001b[0m\u001b[0m\n\u001b[0;32m      9\u001b[0m     seed=2018)\n\u001b[1;32m---> 10\u001b[1;33m \u001b[0mcv_xgb\u001b[0m\u001b[1;33m.\u001b[0m\u001b[0mtrain\u001b[0m\u001b[1;33m(\u001b[0m\u001b[0mx\u001b[0m \u001b[1;33m=\u001b[0m \u001b[0mpredictors\u001b[0m\u001b[1;33m,\u001b[0m \u001b[0my\u001b[0m \u001b[1;33m=\u001b[0m \u001b[0mresponse\u001b[0m\u001b[1;33m,\u001b[0m \u001b[0mtraining_frame\u001b[0m \u001b[1;33m=\u001b[0m \u001b[0mtrain\u001b[0m\u001b[1;33m,\u001b[0m \u001b[0mvalidation_frame\u001b[0m\u001b[1;33m=\u001b[0m\u001b[0mvalid\u001b[0m\u001b[1;33m)\u001b[0m\u001b[1;33m\u001b[0m\u001b[0m\n\u001b[0m\u001b[0;32m     11\u001b[0m \u001b[0mcv_xgb\u001b[0m\u001b[1;33m.\u001b[0m\u001b[0mmodel_performance\u001b[0m\u001b[1;33m(\u001b[0m\u001b[0mvalid\u001b[0m\u001b[1;33m)\u001b[0m\u001b[1;33m.\u001b[0m\u001b[0mauc\u001b[0m\u001b[1;33m(\u001b[0m\u001b[1;33m)\u001b[0m\u001b[1;33m\u001b[0m\u001b[0m\n",
      "\u001b[1;32m~\\Anaconda3\\lib\\site-packages\\h2o\\estimators\\estimator_base.py\u001b[0m in \u001b[0;36mtrain\u001b[1;34m(self, x, y, training_frame, offset_column, fold_column, weights_column, validation_frame, max_runtime_secs, ignored_columns, model_id, verbose)\u001b[0m\n\u001b[0;32m    227\u001b[0m         \u001b[0mrest_ver\u001b[0m \u001b[1;33m=\u001b[0m \u001b[0mparms\u001b[0m\u001b[1;33m.\u001b[0m\u001b[0mpop\u001b[0m\u001b[1;33m(\u001b[0m\u001b[1;34m\"_rest_version\"\u001b[0m\u001b[1;33m)\u001b[0m \u001b[1;32mif\u001b[0m \u001b[1;34m\"_rest_version\"\u001b[0m \u001b[1;32min\u001b[0m \u001b[0mparms\u001b[0m \u001b[1;32melse\u001b[0m \u001b[1;36m3\u001b[0m\u001b[1;33m\u001b[0m\u001b[0m\n\u001b[0;32m    228\u001b[0m \u001b[1;33m\u001b[0m\u001b[0m\n\u001b[1;32m--> 229\u001b[1;33m         \u001b[0mmodel_builder_json\u001b[0m \u001b[1;33m=\u001b[0m \u001b[0mh2o\u001b[0m\u001b[1;33m.\u001b[0m\u001b[0mapi\u001b[0m\u001b[1;33m(\u001b[0m\u001b[1;34m\"POST /%d/ModelBuilders/%s\"\u001b[0m \u001b[1;33m%\u001b[0m \u001b[1;33m(\u001b[0m\u001b[0mrest_ver\u001b[0m\u001b[1;33m,\u001b[0m \u001b[0mself\u001b[0m\u001b[1;33m.\u001b[0m\u001b[0malgo\u001b[0m\u001b[1;33m)\u001b[0m\u001b[1;33m,\u001b[0m \u001b[0mdata\u001b[0m\u001b[1;33m=\u001b[0m\u001b[0mparms\u001b[0m\u001b[1;33m)\u001b[0m\u001b[1;33m\u001b[0m\u001b[0m\n\u001b[0m\u001b[0;32m    230\u001b[0m         \u001b[0mmodel\u001b[0m \u001b[1;33m=\u001b[0m \u001b[0mH2OJob\u001b[0m\u001b[1;33m(\u001b[0m\u001b[0mmodel_builder_json\u001b[0m\u001b[1;33m,\u001b[0m \u001b[0mjob_type\u001b[0m\u001b[1;33m=\u001b[0m\u001b[1;33m(\u001b[0m\u001b[0mself\u001b[0m\u001b[1;33m.\u001b[0m\u001b[0malgo\u001b[0m \u001b[1;33m+\u001b[0m \u001b[1;34m\" Model Build\"\u001b[0m\u001b[1;33m)\u001b[0m\u001b[1;33m)\u001b[0m\u001b[1;33m\u001b[0m\u001b[0m\n\u001b[0;32m    231\u001b[0m \u001b[1;33m\u001b[0m\u001b[0m\n",
      "\u001b[1;32m~\\Anaconda3\\lib\\site-packages\\h2o\\h2o.py\u001b[0m in \u001b[0;36mapi\u001b[1;34m(endpoint, data, json, filename, save_to)\u001b[0m\n\u001b[0;32m    102\u001b[0m     \u001b[1;31m# type checks are performed in H2OConnection class\u001b[0m\u001b[1;33m\u001b[0m\u001b[1;33m\u001b[0m\u001b[0m\n\u001b[0;32m    103\u001b[0m     \u001b[0m_check_connection\u001b[0m\u001b[1;33m(\u001b[0m\u001b[1;33m)\u001b[0m\u001b[1;33m\u001b[0m\u001b[0m\n\u001b[1;32m--> 104\u001b[1;33m     \u001b[1;32mreturn\u001b[0m \u001b[0mh2oconn\u001b[0m\u001b[1;33m.\u001b[0m\u001b[0mrequest\u001b[0m\u001b[1;33m(\u001b[0m\u001b[0mendpoint\u001b[0m\u001b[1;33m,\u001b[0m \u001b[0mdata\u001b[0m\u001b[1;33m=\u001b[0m\u001b[0mdata\u001b[0m\u001b[1;33m,\u001b[0m \u001b[0mjson\u001b[0m\u001b[1;33m=\u001b[0m\u001b[0mjson\u001b[0m\u001b[1;33m,\u001b[0m \u001b[0mfilename\u001b[0m\u001b[1;33m=\u001b[0m\u001b[0mfilename\u001b[0m\u001b[1;33m,\u001b[0m \u001b[0msave_to\u001b[0m\u001b[1;33m=\u001b[0m\u001b[0msave_to\u001b[0m\u001b[1;33m)\u001b[0m\u001b[1;33m\u001b[0m\u001b[0m\n\u001b[0m\u001b[0;32m    105\u001b[0m \u001b[1;33m\u001b[0m\u001b[0m\n\u001b[0;32m    106\u001b[0m \u001b[1;33m\u001b[0m\u001b[0m\n",
      "\u001b[1;32m~\\Anaconda3\\lib\\site-packages\\h2o\\backend\\connection.py\u001b[0m in \u001b[0;36mrequest\u001b[1;34m(self, endpoint, data, json, filename, save_to)\u001b[0m\n\u001b[0;32m    405\u001b[0m                                     auth=self._auth, verify=self._verify_ssl_cert, proxies=self._proxies)\n\u001b[0;32m    406\u001b[0m             \u001b[0mself\u001b[0m\u001b[1;33m.\u001b[0m\u001b[0m_log_end_transaction\u001b[0m\u001b[1;33m(\u001b[0m\u001b[0mstart_time\u001b[0m\u001b[1;33m,\u001b[0m \u001b[0mresp\u001b[0m\u001b[1;33m)\u001b[0m\u001b[1;33m\u001b[0m\u001b[0m\n\u001b[1;32m--> 407\u001b[1;33m             \u001b[1;32mreturn\u001b[0m \u001b[0mself\u001b[0m\u001b[1;33m.\u001b[0m\u001b[0m_process_response\u001b[0m\u001b[1;33m(\u001b[0m\u001b[0mresp\u001b[0m\u001b[1;33m,\u001b[0m \u001b[0msave_to\u001b[0m\u001b[1;33m)\u001b[0m\u001b[1;33m\u001b[0m\u001b[0m\n\u001b[0m\u001b[0;32m    408\u001b[0m \u001b[1;33m\u001b[0m\u001b[0m\n\u001b[0;32m    409\u001b[0m         \u001b[1;32mexcept\u001b[0m \u001b[1;33m(\u001b[0m\u001b[0mrequests\u001b[0m\u001b[1;33m.\u001b[0m\u001b[0mexceptions\u001b[0m\u001b[1;33m.\u001b[0m\u001b[0mConnectionError\u001b[0m\u001b[1;33m,\u001b[0m \u001b[0mrequests\u001b[0m\u001b[1;33m.\u001b[0m\u001b[0mexceptions\u001b[0m\u001b[1;33m.\u001b[0m\u001b[0mHTTPError\u001b[0m\u001b[1;33m)\u001b[0m \u001b[1;32mas\u001b[0m \u001b[0me\u001b[0m\u001b[1;33m:\u001b[0m\u001b[1;33m\u001b[0m\u001b[0m\n",
      "\u001b[1;32m~\\Anaconda3\\lib\\site-packages\\h2o\\backend\\connection.py\u001b[0m in \u001b[0;36m_process_response\u001b[1;34m(response, save_to)\u001b[0m\n\u001b[0;32m    741\u001b[0m         \u001b[1;31m# Client errors (400 = \"Bad Request\", 404 = \"Not Found\", 412 = \"Precondition Failed\")\u001b[0m\u001b[1;33m\u001b[0m\u001b[1;33m\u001b[0m\u001b[0m\n\u001b[0;32m    742\u001b[0m         \u001b[1;32mif\u001b[0m \u001b[0mstatus_code\u001b[0m \u001b[1;32min\u001b[0m \u001b[1;33m{\u001b[0m\u001b[1;36m400\u001b[0m\u001b[1;33m,\u001b[0m \u001b[1;36m404\u001b[0m\u001b[1;33m,\u001b[0m \u001b[1;36m412\u001b[0m\u001b[1;33m}\u001b[0m \u001b[1;32mand\u001b[0m \u001b[0misinstance\u001b[0m\u001b[1;33m(\u001b[0m\u001b[0mdata\u001b[0m\u001b[1;33m,\u001b[0m \u001b[1;33m(\u001b[0m\u001b[0mH2OErrorV3\u001b[0m\u001b[1;33m,\u001b[0m \u001b[0mH2OModelBuilderErrorV3\u001b[0m\u001b[1;33m)\u001b[0m\u001b[1;33m)\u001b[0m\u001b[1;33m:\u001b[0m\u001b[1;33m\u001b[0m\u001b[0m\n\u001b[1;32m--> 743\u001b[1;33m             \u001b[1;32mraise\u001b[0m \u001b[0mH2OResponseError\u001b[0m\u001b[1;33m(\u001b[0m\u001b[0mdata\u001b[0m\u001b[1;33m)\u001b[0m\u001b[1;33m\u001b[0m\u001b[0m\n\u001b[0m\u001b[0;32m    744\u001b[0m \u001b[1;33m\u001b[0m\u001b[0m\n\u001b[0;32m    745\u001b[0m         \u001b[1;31m# Server errors (notably 500 = \"Server Error\")\u001b[0m\u001b[1;33m\u001b[0m\u001b[1;33m\u001b[0m\u001b[0m\n",
      "\u001b[1;31mH2OResponseError\u001b[0m: Server error water.exceptions.H2ONotFoundArgumentException:\n  Error: POST /3/ModelBuilders/xgboost not found\n  Request: POST /3/ModelBuilders/xgboost\n    data: {'ntrees': '3000', 'learn_rate': '0.05', 'stopping_rounds': '20', 'stopping_metric': 'AUC', 'nfolds': '4', 'seed': '2018', 'training_frame': 'py_62_sid_8a24', 'validation_frame': 'py_63_sid_8a24', 'response_column': 'Outcome'}\n"
     ]
    }
   ],
   "source": [
    "from h2o.estimators import H2OXGBoostEstimator\n",
    "\n",
    "cv_xgb = H2OXGBoostEstimator(\n",
    "    ntrees = 3000,\n",
    "    learn_rate = 0.05,\n",
    "    stopping_rounds = 20,\n",
    "    stopping_metric = \"AUC\",\n",
    "    nfolds=4, \n",
    "    seed=2018)\n",
    "cv_xgb.train(x = predictors, y = response, training_frame = train, validation_frame=valid)\n",
    "cv_xgb.model_performance(valid).auc()"
   ]
  },
  {
   "cell_type": "markdown",
   "metadata": {
    "_uuid": "5fc7378ba19488a022c466337f49ba2343b1658d"
   },
   "source": [
    "Not much improvement in the performance. Probably we need to tune the parameters more. \n",
    "\n",
    "Getting the variable importances plot from a model is simple too. *varimp_plot()* will get us that. Now let us check the variable importance of the XGBoost model."
   ]
  },
  {
   "cell_type": "code",
   "execution_count": null,
   "metadata": {
    "_uuid": "3e1ee6e8c669a1d9afe6b7cb28f8d4e6bbed6b2f",
    "scrolled": true
   },
   "outputs": [],
   "source": [
    "cv_xgb.varimp_plot()"
   ]
  },
  {
   "cell_type": "markdown",
   "metadata": {
    "_uuid": "5ea91b5fa9896aea5a1c79aa2b675e29d712dd39"
   },
   "source": [
    "**AutoML : Automatic Machine Learning:**\n",
    "\n",
    "From the [H2O AutoML page](http://docs.h2o.ai/h2o/latest-stable/h2o-docs/automl.html),\n",
    "\n",
    "*H2O’s AutoML can be used for automating the machine learning workflow, which includes automatic training and tuning of many models within a user-specified time-limit. Stacked Ensembles will be automatically trained on collections of individual models to produce highly predictive ensemble models which, in most cases, will be the top performing models in the AutoML Leaderboard.*\n",
    "\n",
    "So let us use the *H2OAutoML* function to do automatic machine learning. We can specify the *max_models* parameter which indicates the number of individual (or \"base\") models, and does not include the two ensemble models that are trained at the end."
   ]
  },
  {
   "cell_type": "code",
   "execution_count": null,
   "metadata": {
    "_uuid": "e48a71a1942cf093367c03e2ae293cd3d496b9e3"
   },
   "outputs": [],
   "source": [
    "from h2o.automl import H2OAutoML\n",
    "\n",
    "aml = H2OAutoML(max_models = 10, max_runtime_secs=100, seed = 1)\n",
    "aml.train(x=predictors, y=response, training_frame=train, validation_frame=valid)"
   ]
  },
  {
   "cell_type": "markdown",
   "metadata": {
    "_uuid": "c38ce0e56abbdb77d38219b5e66d472eae852862"
   },
   "source": [
    "Now let us look at the automl leaderboard."
   ]
  },
  {
   "cell_type": "code",
   "execution_count": null,
   "metadata": {
    "_uuid": "4c44674f0b6c472c417265de6adfefb79104d9f0",
    "scrolled": true
   },
   "outputs": [],
   "source": [
    "lb = aml.leaderboard\n",
    "lb"
   ]
  },
  {
   "cell_type": "markdown",
   "metadata": {
    "_uuid": "7f3dc9c760b4bb03bd8362f02b04a78cbad51f14"
   },
   "source": [
    "AutoML has built variety of models inlcuding GBM, GLM, Deep Learning and XRT (Extremely Randomized Trees) and then build two stacked ensemble models (the first two in the leaderboard) on top of them and the best model is a stacked ensemble. \n",
    "\n",
    "Now let us look at the contribution of the individual models for this meta learner. "
   ]
  },
  {
   "cell_type": "code",
   "execution_count": null,
   "metadata": {
    "_uuid": "e2360db29873b6076e2fbcbdfef307d700d19bb2"
   },
   "outputs": [],
   "source": [
    "metalearner = h2o.get_model(aml.leader.metalearner()['name'])\n",
    "metalearner.std_coef_plot()"
   ]
  },
  {
   "cell_type": "markdown",
   "metadata": {
    "_uuid": "d0eb3d83dd2eaec96e532c5ddbebe0056483b5ad"
   },
   "source": [
    "So GBM is the topmost contributor to the ensemble followed by GLM and DL. "
   ]
  },
  {
   "cell_type": "markdown",
   "metadata": {
    "_uuid": "6c07793ac8dd909248cabdb8508d3c90ad179fbf"
   },
   "source": [
    "**References:**\n",
    "\n",
    "1. [GBM tuning tutorial for python](https://github.com/h2oai/h2o-3/blob/master/h2o-docs/src/product/tutorials/gbm/gbmTuning.ipynb)\n",
    "2. [Machine Learning with H2O](https://dzone.com/articles/machine-learning-with-h2o-hands-on-guide-for-data)\n",
    "3. [XGBoost in H2O platform](https://blog.h2o.ai/2017/06/xgboost-in-h2o-machine-learning-platform/)\n",
    "4. [AutoML H2O Demo](https://github.com/h2oai/h2o-tutorials/blob/master/h2o-world-2017/automl/Python/automl_binary_classification_product_backorders.ipynb)\n",
    "5. [AutoML Docs](http://docs.h2o.ai/h2o/latest-stable/h2o-docs/automl.html)\n"
   ]
  },
  {
   "cell_type": "markdown",
   "metadata": {
    "_uuid": "a9b4b1c7fc418af8b0a0e9b8bbbb87756c8a0156",
    "collapsed": true
   },
   "source": [
    "**More to come. Stay tuned.!**\n",
    "\n",
    "Disclaimer : I am currently working as a Data Scientist at H2O.ai"
   ]
  }
 ],
 "metadata": {
  "kernelspec": {
   "display_name": "Python 3",
   "language": "python",
   "name": "python3"
  },
  "language_info": {
   "codemirror_mode": {
    "name": "ipython",
    "version": 3
   },
   "file_extension": ".py",
   "mimetype": "text/x-python",
   "name": "python",
   "nbconvert_exporter": "python",
   "pygments_lexer": "ipython3",
   "version": "3.6.4"
  },
  "varInspector": {
   "cols": {
    "lenName": 16,
    "lenType": 16,
    "lenVar": 40
   },
   "kernels_config": {
    "python": {
     "delete_cmd_postfix": "",
     "delete_cmd_prefix": "del ",
     "library": "var_list.py",
     "varRefreshCmd": "print(var_dic_list())"
    },
    "r": {
     "delete_cmd_postfix": ") ",
     "delete_cmd_prefix": "rm(",
     "library": "var_list.r",
     "varRefreshCmd": "cat(var_dic_list()) "
    }
   },
   "types_to_exclude": [
    "module",
    "function",
    "builtin_function_or_method",
    "instance",
    "_Feature"
   ],
   "window_display": false
  }
 },
 "nbformat": 4,
 "nbformat_minor": 1
}
